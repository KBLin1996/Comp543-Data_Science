{
 "cells": [
  {
   "cell_type": "markdown",
   "id": "b855c626",
   "metadata": {},
   "source": [
    "## Task 1"
   ]
  },
  {
   "cell_type": "code",
   "execution_count": 1,
   "id": "816376aa",
   "metadata": {},
   "outputs": [
    {
     "data": {
      "application/vnd.jupyter.widget-view+json": {
       "model_id": "45136aaf35ed434b84c18a44d8b77065",
       "version_major": 2,
       "version_minor": 0
      },
      "text/plain": [
       "VBox()"
      ]
     },
     "metadata": {},
     "output_type": "display_data"
    },
    {
     "name": "stdout",
     "output_type": "stream",
     "text": [
      "Starting Spark application\n"
     ]
    },
    {
     "data": {
      "text/html": [
       "<table>\n",
       "<tr><th>ID</th><th>YARN Application ID</th><th>Kind</th><th>State</th><th>Spark UI</th><th>Driver log</th><th>Current session?</th></tr><tr><td>1</td><td>application_1637371168339_0002</td><td>pyspark</td><td>idle</td><td><a target=\"_blank\" href=\"http://ip-172-31-86-104.ec2.internal:20888/proxy/application_1637371168339_0002/\">Link</a></td><td><a target=\"_blank\" href=\"http://ip-172-31-90-71.ec2.internal:8042/node/containerlogs/container_1637371168339_0002_01_000001/livy\">Link</a></td><td>✔</td></tr></table>"
      ],
      "text/plain": [
       "<IPython.core.display.HTML object>"
      ]
     },
     "metadata": {},
     "output_type": "display_data"
    },
    {
     "data": {
      "application/vnd.jupyter.widget-view+json": {
       "model_id": "",
       "version_major": 2,
       "version_minor": 0
      },
      "text/plain": [
       "FloatProgress(value=0.0, bar_style='info', description='Progress:', layout=Layout(height='25px', width='50%'),…"
      ]
     },
     "metadata": {},
     "output_type": "display_data"
    },
    {
     "name": "stdout",
     "output_type": "stream",
     "text": [
      "SparkSession available as 'spark'.\n"
     ]
    },
    {
     "data": {
      "application/vnd.jupyter.widget-view+json": {
       "model_id": "",
       "version_major": 2,
       "version_minor": 0
      },
      "text/plain": [
       "FloatProgress(value=0.0, bar_style='info', description='Progress:', layout=Layout(height='25px', width='50%'),…"
      ]
     },
     "metadata": {},
     "output_type": "display_data"
    }
   ],
   "source": [
    "# Task 1\n",
    "import re\n",
    "import numpy as np\n",
    "\n",
    "# load up the small dataset\n",
    "corpus = sc.textFile(\"s3://chrisjermainebucket/comp330_A5/TrainingDataOneLinePerDoc.txt\")"
   ]
  },
  {
   "cell_type": "code",
   "execution_count": 2,
   "id": "d72a0aaf",
   "metadata": {},
   "outputs": [
    {
     "data": {
      "application/vnd.jupyter.widget-view+json": {
       "model_id": "99b43eedf3c24963bd40550a5af78ba9",
       "version_major": 2,
       "version_minor": 0
      },
      "text/plain": [
       "VBox()"
      ]
     },
     "metadata": {},
     "output_type": "display_data"
    },
    {
     "data": {
      "application/vnd.jupyter.widget-view+json": {
       "model_id": "",
       "version_major": 2,
       "version_minor": 0
      },
      "text/plain": [
       "FloatProgress(value=0.0, bar_style='info', description='Progress:', layout=Layout(height='25px', width='50%'),…"
      ]
     },
     "metadata": {},
     "output_type": "display_data"
    }
   ],
   "source": [
    "# each entry in validLines will be a line from the text file\n",
    "validLines = corpus.filter(lambda x: 'id' in x)\n",
    "# now we transform it into a bunch of (docID, text) pairs\n",
    "keyAndText = validLines.map(lambda x: (x[x.index('id=\"') + 4:x.index('\" url=')], x[x.index('\">') + 2:]))"
   ]
  },
  {
   "cell_type": "code",
   "execution_count": 3,
   "id": "4b65ae92",
   "metadata": {},
   "outputs": [
    {
     "data": {
      "application/vnd.jupyter.widget-view+json": {
       "model_id": "0163c752579d44ad8d956a73a71d4166",
       "version_major": 2,
       "version_minor": 0
      },
      "text/plain": [
       "VBox()"
      ]
     },
     "metadata": {},
     "output_type": "display_data"
    },
    {
     "data": {
      "application/vnd.jupyter.widget-view+json": {
       "model_id": "",
       "version_major": 2,
       "version_minor": 0
      },
      "text/plain": [
       "FloatProgress(value=0.0, bar_style='info', description='Progress:', layout=Layout(height='25px', width='50%'),…"
      ]
     },
     "metadata": {},
     "output_type": "display_data"
    }
   ],
   "source": [
    "# now we split the text in each (docID, text) pair into a list of words\n",
    "# after this, we have a data set with (docID, [\"word1\", \"word2\", \"word3\", ...])\n",
    "# we have a bit of fancy regular expression stuff here to make sure that we do not\n",
    "# die on some of the documents\n",
    "regex = re.compile('[^a-zA-Z]')\n",
    "keyAndListOfWords = keyAndText.map(lambda x: (str(x[0]), regex.sub(' ', x[1]).lower().split()))\n",
    "\n",
    "# now get the top 20,000 words... first change (docID, [\"word1\", \"word2\", \"word3\", ...])\n",
    "# to (\"word1\", 1) (\"word2\", 1)...\n",
    "allWords = keyAndListOfWords.flatMap(lambda x: ((j, 1) for j in x[1]))\n",
    "\n",
    "# now, count all of the words, giving us (\"word1\", 1433), (\"word2\", 3423423), etc.\n",
    "allCounts = allWords.reduceByKey(lambda a, b: a + b)\n",
    "\n",
    "# and get the top 20,000 words in a local array\n",
    "# each entry is a (\"word1\", count) pair\n",
    "topWords = allCounts.top(20000, lambda x: x[1])"
   ]
  },
  {
   "cell_type": "code",
   "execution_count": 4,
   "id": "044ae242",
   "metadata": {},
   "outputs": [
    {
     "data": {
      "application/vnd.jupyter.widget-view+json": {
       "model_id": "2c0ea4f9a62e47d3a84fbdd1e6fbfc30",
       "version_major": 2,
       "version_minor": 0
      },
      "text/plain": [
       "VBox()"
      ]
     },
     "metadata": {},
     "output_type": "display_data"
    },
    {
     "data": {
      "application/vnd.jupyter.widget-view+json": {
       "model_id": "",
       "version_major": 2,
       "version_minor": 0
      },
      "text/plain": [
       "FloatProgress(value=0.0, bar_style='info', description='Progress:', layout=Layout(height='25px', width='50%'),…"
      ]
     },
     "metadata": {},
     "output_type": "display_data"
    },
    {
     "name": "stdout",
     "output_type": "stream",
     "text": [
      "applicant: 448\n",
      "and: 2\n",
      "attack: 514\n",
      "protein: 3167\n",
      "car: 652"
     ]
    }
   ],
   "source": [
    "# and we'll create a RDD that has a bunch of (word, dictNum) pairs\n",
    "# start by creating an RDD that has the number 0 thru 20000\n",
    "# 20000 is the number of words that will be in our dictionary\n",
    "twentyK = sc.parallelize(range(20000))\n",
    "\n",
    "# now, we transform (0), (1), (2), ... to (\"mostcommonword\", 0) (\"nextmostcommon\", 1), ...\n",
    "# the number will be the spot in the dictionary used to tell us where the word is located\n",
    "# A bunch of (word, posInDictionary) pairs\n",
    "dictionary = twentyK.map(lambda x: (topWords[x][0], x))\n",
    "\n",
    "# Collect the Rdd to a Dict\n",
    "localDict = dictionary.collectAsMap()\n",
    "for inputWord in [\"applicant\", \"and\", \"attack\", \"protein\", \"car\"]:\n",
    "    if inputWord in localDict:\n",
    "        print(f'{inputWord}: {localDict[inputWord]}')\n",
    "    else:\n",
    "        print(f'{inputWord}: -1')"
   ]
  },
  {
   "cell_type": "markdown",
   "id": "11ee85b8",
   "metadata": {},
   "source": [
    "## Task 2"
   ]
  },
  {
   "cell_type": "code",
   "execution_count": 5,
   "id": "07a4a8ab",
   "metadata": {},
   "outputs": [
    {
     "data": {
      "application/vnd.jupyter.widget-view+json": {
       "model_id": "fa48a8dc60da408d92eba11c49c1a001",
       "version_major": 2,
       "version_minor": 0
      },
      "text/plain": [
       "VBox()"
      ]
     },
     "metadata": {},
     "output_type": "display_data"
    },
    {
     "data": {
      "application/vnd.jupyter.widget-view+json": {
       "model_id": "",
       "version_major": 2,
       "version_minor": 0
      },
      "text/plain": [
       "FloatProgress(value=0.0, bar_style='info', description='Progress:', layout=Layout(height='25px', width='50%'),…"
      ]
     },
     "metadata": {},
     "output_type": "display_data"
    }
   ],
   "source": [
    "# Task 2\n",
    "import math\n",
    "\n",
    "# A bunch of (word, docID) pairs\n",
    "wordDictPair = keyAndListOfWords.flatMap(lambda x: ((j, x[0]) for j in x[1]))\n",
    "# Join the two RDDs, you'll have a bunch of (word, (docID, posInDictionary)) pairs\n",
    "wordPair = wordDictPair.join(dictionary)\n",
    "\n",
    "# Get a bunch of (docid, (listOfAllDictonaryPos)) pairs\n",
    "docIDIdxPair = wordPair.map(lambda x: (x[1][0], x[1][1]))\n",
    "docIDAllIdxPair = docIDIdxPair.groupByKey()\n",
    "docIDAllIdxList = docIDAllIdxPair.map(lambda x: (x[0], list(x[1])))\n",
    "\n",
    "# Then finally, you will write a map () that will take that RDD and convert into the listOfAllDictonary\n",
    "def transformNP(idxList):\n",
    "    array = np.zeros(20000)\n",
    "    for i in idxList:\n",
    "        array[i] += 1\n",
    "    return array\n",
    "result = docIDAllIdxList.map(lambda x: (x[0], transformNP(x[1])))"
   ]
  },
  {
   "cell_type": "code",
   "execution_count": 6,
   "id": "9c30fd5f",
   "metadata": {
    "scrolled": true
   },
   "outputs": [
    {
     "data": {
      "application/vnd.jupyter.widget-view+json": {
       "model_id": "352d3474046b4b199b8cc3955fe7346f",
       "version_major": 2,
       "version_minor": 0
      },
      "text/plain": [
       "VBox()"
      ]
     },
     "metadata": {},
     "output_type": "display_data"
    },
    {
     "data": {
      "application/vnd.jupyter.widget-view+json": {
       "model_id": "",
       "version_major": 2,
       "version_minor": 0
      },
      "text/plain": [
       "FloatProgress(value=0.0, bar_style='info', description='Progress:', layout=Layout(height='25px', width='50%'),…"
      ]
     },
     "metadata": {},
     "output_type": "display_data"
    }
   ],
   "source": [
    "def findWord(wordList):\n",
    "    arr = np.zeros(20000)\n",
    "    for idx, i in enumerate(wordList):\n",
    "        if i > 0:\n",
    "            arr[idx] += 1\n",
    "    return arr\n",
    "\n",
    "# IDF\n",
    "def IDF(result):\n",
    "    cnt = 0\n",
    "    val = result.map(lambda x: (\"key\", findWord(x[1])))\n",
    "    finalList = val.reduceByKey(lambda a, b: a + b)\n",
    "    return finalList\n",
    "\n",
    "# Calculate IDF values\n",
    "size = result.count()\n",
    "IDFList = IDF(result)\n",
    "IDFArr = np.array(IDFList.lookup(\"key\"))\n",
    "IDFArr = np.log(size / IDFArr)\n",
    "\n",
    "# TF-IDF\n",
    "def TFIDF(arrCnt):\n",
    "    TFArr = arrCnt / arrCnt.sum()\n",
    "    finalResult = np.multiply(TFArr, IDFArr)\n",
    "    return finalResult\n",
    "\n",
    "def predictLabel(inputStr):\n",
    "    regex = re.compile('[^a-zA-Z]')\n",
    "\n",
    "    # Input string to a bunch of words\n",
    "    words = regex.sub(' ', inputStr).lower().split()\n",
    "    wordArr = np.zeros(20000)\n",
    "\n",
    "    for word in words:\n",
    "        if word in localDict.keys():\n",
    "            wordArr[localDict[word]] += 1\n",
    "    inputTFIDF = TFIDF(wordArr)\n",
    "    mean = np.mean(inputTFIDF)\n",
    "    \n",
    "    return inputTFIDF\n",
    "\n",
    "# TFIDF for all dictionaries\n",
    "trainingInfo = keyAndText.map(lambda x: (x[0], predictLabel(x[1])))\n",
    "Data = keyAndText.map(lambda x: (1 if x[0][0:2] == \"AU\" else 0, predictLabel(x[1])))\n",
    "trainingData = Data.map(lambda x: (x[0], x[1][0]))"
   ]
  },
  {
   "cell_type": "code",
   "execution_count": 7,
   "id": "478fc7d3",
   "metadata": {},
   "outputs": [
    {
     "data": {
      "application/vnd.jupyter.widget-view+json": {
       "model_id": "a6172cfc3be74397bfa3ea1158ec7eae",
       "version_major": 2,
       "version_minor": 0
      },
      "text/plain": [
       "VBox()"
      ]
     },
     "metadata": {},
     "output_type": "display_data"
    },
    {
     "data": {
      "application/vnd.jupyter.widget-view+json": {
       "model_id": "",
       "version_major": 2,
       "version_minor": 0
      },
      "text/plain": [
       "FloatProgress(value=0.0, bar_style='info', description='Progress:', layout=Layout(height='25px', width='50%'),…"
      ]
     },
     "metadata": {},
     "output_type": "display_data"
    }
   ],
   "source": [
    "meanVec = trainingData.map(lambda x: (\"key\", x[1]))\n",
    "meanVec = meanVec.reduceByKey(lambda a, b: a+b)\n",
    "meanVec = meanVec.map(lambda x: x[1])\n",
    "mean = meanVec.collect()[0] / size\n",
    "\n",
    "varVec = trainingData.map(lambda x: (\"key\", np.square(x[1] - mean)))\n",
    "varVec = varVec.reduceByKey(lambda a, b: a+b)\n",
    "varVec = varVec.map(lambda x: x[1])\n",
    "var = np.sqrt(varVec.collect()[0] / size)\n",
    "var[var == 0] = 1\n",
    "training = trainingData.map(lambda x: (x[0], (x[1] - mean) / 10 * var))\n",
    "training = training.cache()"
   ]
  },
  {
   "cell_type": "code",
   "execution_count": 8,
   "id": "90bd7d8c",
   "metadata": {},
   "outputs": [
    {
     "data": {
      "application/vnd.jupyter.widget-view+json": {
       "model_id": "2bbabf876a044fcbb58a7d3e0dd2ed3e",
       "version_major": 2,
       "version_minor": 0
      },
      "text/plain": [
       "VBox()"
      ]
     },
     "metadata": {},
     "output_type": "display_data"
    },
    {
     "data": {
      "application/vnd.jupyter.widget-view+json": {
       "model_id": "",
       "version_major": 2,
       "version_minor": 0
      },
      "text/plain": [
       "FloatProgress(value=0.0, bar_style='info', description='Progress:', layout=Layout(height='25px', width='50%'),…"
      ]
     },
     "metadata": {},
     "output_type": "display_data"
    },
    {
     "name": "stdout",
     "output_type": "stream",
     "text": [
      "[(1, array([ 4.55584042e-14,  3.24638435e-14, -4.50536090e-13, ...,\n",
      "       -5.12238643e-10, -4.76528888e-10, -1.33228606e-09]))]"
     ]
    }
   ],
   "source": [
    "training.take(1)"
   ]
  },
  {
   "cell_type": "code",
   "execution_count": 18,
   "id": "ad82fc6b",
   "metadata": {},
   "outputs": [
    {
     "data": {
      "application/vnd.jupyter.widget-view+json": {
       "model_id": "ebb6ad635e9848e599a124bb67426c67",
       "version_major": 2,
       "version_minor": 0
      },
      "text/plain": [
       "VBox()"
      ]
     },
     "metadata": {},
     "output_type": "display_data"
    },
    {
     "data": {
      "application/vnd.jupyter.widget-view+json": {
       "model_id": "",
       "version_major": 2,
       "version_minor": 0
      },
      "text/plain": [
       "FloatProgress(value=0.0, bar_style='info', description='Progress:', layout=Layout(height='25px', width='50%'),…"
      ]
     },
     "metadata": {},
     "output_type": "display_data"
    }
   ],
   "source": [
    "# x is the data set\n",
    "# y is the labels\n",
    "# w is the current set of weights\n",
    "# c is the weight of the slack variables\n",
    "\n",
    "# Evaluates and returns the gradient\n",
    "def gradient(train, w, c):\n",
    "    l2 = np.linalg.norm(w, 2)\n",
    "    grad_per_row = train.map(lambda x: -1 * x[0] * x[1] + x[1] * (np.exp(np.dot(x[1], w)) / (1 + np.exp(np.dot(x[1], w)))) + c * w * 2)\n",
    "    acc = np.zeros(20000)\n",
    "    grad = grad_per_row.fold(acc, lambda a, b: a + b)\n",
    "    print(f\"Gradient: {grad}\")\n",
    "    return grad"
   ]
  },
  {
   "cell_type": "code",
   "execution_count": 19,
   "id": "6b338434",
   "metadata": {},
   "outputs": [
    {
     "data": {
      "application/vnd.jupyter.widget-view+json": {
       "model_id": "079261aa92fe4c009e3534680602e1cf",
       "version_major": 2,
       "version_minor": 0
      },
      "text/plain": [
       "VBox()"
      ]
     },
     "metadata": {},
     "output_type": "display_data"
    },
    {
     "data": {
      "application/vnd.jupyter.widget-view+json": {
       "model_id": "",
       "version_major": 2,
       "version_minor": 0
      },
      "text/plain": [
       "FloatProgress(value=0.0, bar_style='info', description='Progress:', layout=Layout(height='25px', width='50%'),…"
      ]
     },
     "metadata": {},
     "output_type": "display_data"
    }
   ],
   "source": [
    "from operator import add\n",
    "\n",
    "# x is the data set\n",
    "# y is the labels\n",
    "# w is the current set of weights\n",
    "# c is the weight of the slack variables\n",
    "\n",
    "# Evaluates the loss function and returns the loss\n",
    "def f(train, w, c):\n",
    "    l2 = np.linalg.norm(w, 2)\n",
    "    loss_per_row = train.map(lambda x: (\"key\", (-1 * x[0] * np.dot(x[1], w)) + np.log(1 + np.exp(np.dot(x[1], w))) + c * l2 * l2))\n",
    "    loss = loss_per_row.reduceByKey(add).collect()\n",
    "    loss = loss[0][1]\n",
    "    print(f\"Loss: {loss}\")\n",
    "    return loss"
   ]
  },
  {
   "cell_type": "code",
   "execution_count": 20,
   "id": "d064bf0c",
   "metadata": {},
   "outputs": [
    {
     "data": {
      "application/vnd.jupyter.widget-view+json": {
       "model_id": "f8740ad7cbb144df8df7d9f9aa6c2a85",
       "version_major": 2,
       "version_minor": 0
      },
      "text/plain": [
       "VBox()"
      ]
     },
     "metadata": {},
     "output_type": "display_data"
    },
    {
     "data": {
      "application/vnd.jupyter.widget-view+json": {
       "model_id": "",
       "version_major": 2,
       "version_minor": 0
      },
      "text/plain": [
       "FloatProgress(value=0.0, bar_style='info', description='Progress:', layout=Layout(height='25px', width='50%'),…"
      ]
     },
     "metadata": {},
     "output_type": "display_data"
    }
   ],
   "source": [
    "# performs gradient descent optimization, returns the learned set of weights\n",
    "# uses the bold driver to set the learning rate\n",
    "#\n",
    "# x is the data set\n",
    "# y is the labels\n",
    "# w is the current set of weights  to start with\n",
    "# c is the weight of the slack variable\n",
    "def gd_optimize(train, w, c):\n",
    "    rate = 0.001\n",
    "    w_last = w + np.full(20000, 1.0) \n",
    "    while (abs(f(train, w, c) - f(train, w_last, c))) > 10e-4:\n",
    "        w_last = w \n",
    "        w = w - rate * gradient(train, w, c)\n",
    "        if f(train, w, c) > f(train, w_last, c):\n",
    "            rate = rate * 0.5\n",
    "        else:\n",
    "            rate = rate * 1.1\n",
    "        print(f(train, w, c))\n",
    "    return w"
   ]
  },
  {
   "cell_type": "code",
   "execution_count": 21,
   "id": "29c2d6e8",
   "metadata": {},
   "outputs": [
    {
     "data": {
      "application/vnd.jupyter.widget-view+json": {
       "model_id": "15107a2f301f4f9883cfa40acb31973e",
       "version_major": 2,
       "version_minor": 0
      },
      "text/plain": [
       "VBox()"
      ]
     },
     "metadata": {},
     "output_type": "display_data"
    },
    {
     "data": {
      "application/vnd.jupyter.widget-view+json": {
       "model_id": "",
       "version_major": 2,
       "version_minor": 0
      },
      "text/plain": [
       "FloatProgress(value=0.0, bar_style='info', description='Progress:', layout=Layout(height='25px', width='50%'),…"
      ]
     },
     "metadata": {},
     "output_type": "display_data"
    },
    {
     "name": "stdout",
     "output_type": "stream",
     "text": [
      "Loss: 456345.5606146293\n",
      "Loss: 34272045.165440686\n",
      "Gradient: [ 167.77613289  -46.70180954  218.77105289 ...  127.79737871  578.78236186\n",
      " -547.16354717]\n",
      "Loss: 2035215.4102999081\n",
      "Loss: 456345.56061462936\n",
      "Loss: 2035215.4102999072\n",
      "2035215.4102999072\n",
      "Loss: 2035215.4102999074\n",
      "Loss: 456345.5606146294\n",
      "Gradient: [ -398.9246667    111.04382657  -520.17630788 ...  -303.8663833\n",
      " -1376.18239744  1301.00170938]\n",
      "Loss: 1027280.1416753477\n",
      "Loss: 2035215.4102999077\n",
      "Loss: 1027280.1416753479\n",
      "1027280.1416753479\n",
      "Loss: 1027280.141675348\n",
      "Loss: 2035215.4102999084\n",
      "Gradient: [ 274.8032459   -76.49365037  358.32865145 ...  209.3213968   947.9970063\n",
      " -896.20803753]\n",
      "Loss: 786735.3813375457\n",
      "Loss: 1027280.1416753479\n",
      "Loss: 786735.3813375457\n",
      "786735.3813375457\n",
      "Loss: 786735.3813375457\n",
      "Loss: 1027280.1416753479\n",
      "Gradient: [-235.71138496   65.61212263 -307.35496747 ... -179.54459082 -813.14064017\n",
      "  768.71885936]\n",
      "Loss: 846292.8699729294\n",
      "Loss: 786735.3813375457\n",
      "Loss: 846292.8699729294\n",
      "846292.8699729294\n",
      "Loss: 846292.8699729294\n",
      "Loss: 786735.3813375457\n",
      "Gradient: [ 245.96968586  -68.46760157  320.73124006 ...  187.35847914  848.52900871\n",
      " -802.17396535]\n",
      "Loss: 117408.15291853901\n",
      "Loss: 846292.8699729295\n",
      "Loss: 117408.15291853901\n",
      "117408.15291853901\n",
      "Loss: 117408.152918539\n",
      "Loss: 846292.8699729294\n",
      "Gradient: [ -5.35237416   1.48987555  -6.979208   ...  -4.07697671 -18.46424579\n",
      "  17.45554614]\n",
      "Loss: 117068.15858949545\n",
      "Loss: 117408.152918539\n",
      "Loss: 117068.15858949546\n",
      "117068.15858949546\n",
      "Loss: 117068.15858949543\n",
      "Loss: 117408.15291853901\n",
      "Gradient: [ 0.66335361 -0.18464971  0.86497743 ...  0.50528553  2.28839086\n",
      " -2.16337633]\n",
      "Loss: 117063.15096561002\n",
      "Loss: 117068.15858949545\n",
      "Loss: 117063.15096561002\n",
      "117063.15096561002\n",
      "Loss: 117063.15096561\n",
      "Loss: 117068.15858949545\n",
      "Gradient: [-0.15677033  0.04363826 -0.20442008 ... -0.11941411 -0.54081533\n",
      "  0.51127065]\n",
      "Loss: 117062.89311906364\n",
      "Loss: 117063.15096561\n",
      "Loss: 117062.89311906364\n",
      "117062.89311906364\n",
      "Loss: 117062.89311906364\n",
      "Loss: 117063.15096561001\n",
      "Gradient: [ 0.05643151 -0.01570816  0.07358366 ...  0.04298466  0.19467349\n",
      " -0.1840385 ]\n",
      "Loss: 117062.86417695532\n",
      "Loss: 117062.89311906364\n",
      "Loss: 117062.8641769553\n",
      "117062.8641769553\n",
      "Loss: 117062.8641769553\n",
      "Loss: 117062.89311906362\n",
      "Gradient: [-0.02798773  0.00779061 -0.0364945  ... -0.02131864 -0.09655012\n",
      "  0.09127559]\n",
      "Loss: 117062.85867017384\n",
      "Loss: 117062.86417695532\n",
      "Loss: 117062.85867017384\n",
      "117062.85867017384\n",
      "Loss: 117062.85867017382\n",
      "Loss: 117062.86417695534\n",
      "Gradient: [ 0.01806762 -0.00502927  0.02355921 ...  0.01376236  0.06232843\n",
      " -0.05892343]\n",
      "Loss: 117062.85731776145\n",
      "Loss: 117062.85867017382\n",
      "Loss: 117062.85731776149\n",
      "117062.85731776149\n",
      "Loss: 117062.85731776146\n",
      "Loss: 117062.85867017387\n",
      "Gradient: [-0.01463678  0.00407426 -0.01908557 ... -0.01114903 -0.05049293\n",
      "  0.0477345 ]\n",
      "Loss: 117062.85727211405\n",
      "Loss: 117062.85731776147\n",
      "Loss: 117062.85727211402\n",
      "117062.85727211402\n",
      "Loss: 117062.85727211402\n",
      "Loss: 117062.85731776146"
     ]
    }
   ],
   "source": [
    "np.random.seed(42)\n",
    "w = np.random.normal(0, 0.1, size=(20000))\n",
    "c = 0.01\n",
    "w = gd_optimize(training, w, 0.01)"
   ]
  },
  {
   "cell_type": "code",
   "execution_count": 22,
   "id": "34ded07e",
   "metadata": {},
   "outputs": [
    {
     "data": {
      "application/vnd.jupyter.widget-view+json": {
       "model_id": "718f0bafd5d14a60a89bc33bb99d0a3f",
       "version_major": 2,
       "version_minor": 0
      },
      "text/plain": [
       "VBox()"
      ]
     },
     "metadata": {},
     "output_type": "display_data"
    },
    {
     "data": {
      "application/vnd.jupyter.widget-view+json": {
       "model_id": "",
       "version_major": 2,
       "version_minor": 0
      },
      "text/plain": [
       "FloatProgress(value=0.0, bar_style='info', description='Progress:', layout=Layout(height='25px', width='50%'),…"
      ]
     },
     "metadata": {},
     "output_type": "display_data"
    },
    {
     "name": "stdout",
     "output_type": "stream",
     "text": [
      "['five', 'post', 'seems', 'passing', 'experienced', 'copy', 'netherlands', 'rivers', 'demands', 'tons', 'holiday', 'traded', 'wishes', 'denver', 'hughes', 'airing', 'wise', 'religions', 'morocco', 'fiber', 'issuing', 'bells', 'incorporates', 'gaga', 'pornography', 'pulls', 'captures', 'handsome', 'succeeds', 'clarkson', 'dungeons', 'debbie', 'collier', 'pushes', 'angrily', 'kb', 'gravitational', 'introductory', 'confronting', 'embark', 'peugeot', 'trainee', 'hawthorn', 'championed', 'bromwich', 'manipur', 'orr', 'atl', 'thrilled', 'mcdowell']"
     ]
    }
   ],
   "source": [
    "idx = np.argpartition(w, -50)[-50:]\n",
    "output = list()\n",
    "\n",
    "for key, value in localDict.items():\n",
    "    if value in idx:\n",
    "        output.append(key)\n",
    "print(output)"
   ]
  },
  {
   "cell_type": "markdown",
   "id": "7df504f9",
   "metadata": {},
   "source": [
    "## Task 3"
   ]
  },
  {
   "cell_type": "code",
   "execution_count": 23,
   "id": "54d54512",
   "metadata": {},
   "outputs": [
    {
     "data": {
      "application/vnd.jupyter.widget-view+json": {
       "model_id": "aa63eb45f7114c85a8915d4d7356afbb",
       "version_major": 2,
       "version_minor": 0
      },
      "text/plain": [
       "VBox()"
      ]
     },
     "metadata": {},
     "output_type": "display_data"
    },
    {
     "data": {
      "application/vnd.jupyter.widget-view+json": {
       "model_id": "",
       "version_major": 2,
       "version_minor": 0
      },
      "text/plain": [
       "FloatProgress(value=0.0, bar_style='info', description='Progress:', layout=Layout(height='25px', width='50%'),…"
      ]
     },
     "metadata": {},
     "output_type": "display_data"
    }
   ],
   "source": [
    "# Testing Data\n",
    "import re\n",
    "import numpy as np\n",
    "\n",
    "# load up the small dataset\n",
    "corpus = sc.textFile(\"s3://chrisjermainebucket/comp330_A5/TestingDataOneLinePerDoc.txt\")\n",
    "# each entry in validLines will be a line from the text file\n",
    "validLines = corpus.filter(lambda x: 'id' in x)\n",
    "# now we transform it into a bunch of (docID, text) pairs\n",
    "keyAndText = validLines.map(lambda x: (x[x.index('id=\"') + 4:x.index('\" url=')], x[x.index('\">') + 2:]))\n",
    "\n",
    "# TFIDF for all dictionaries\n",
    "testingData = keyAndText.map(lambda x: (1 if x[0][0:2] == \"AU\" else 0, predictLabel(x[1])))\n",
    "testingData = testingData.map(lambda x: (x[0], x[1][0]))"
   ]
  },
  {
   "cell_type": "code",
   "execution_count": 30,
   "id": "51cfa9ce",
   "metadata": {},
   "outputs": [
    {
     "data": {
      "application/vnd.jupyter.widget-view+json": {
       "model_id": "779a28e573fb47f1a5f2745fd39e1535",
       "version_major": 2,
       "version_minor": 0
      },
      "text/plain": [
       "VBox()"
      ]
     },
     "metadata": {},
     "output_type": "display_data"
    },
    {
     "data": {
      "application/vnd.jupyter.widget-view+json": {
       "model_id": "",
       "version_major": 2,
       "version_minor": 0
      },
      "text/plain": [
       "FloatProgress(value=0.0, bar_style='info', description='Progress:', layout=Layout(height='25px', width='50%'),…"
      ]
     },
     "metadata": {},
     "output_type": "display_data"
    }
   ],
   "source": [
    "# Make predictions using all of the data points in x\n",
    "# print ‘success’ or ‘failure’ depending on whether the \n",
    "# prediction is correct \n",
    "\n",
    "# x is the data set\n",
    "# y is the labels\n",
    "# w is the current set of weights\n",
    "\n",
    "def predict(x, y, w):\n",
    "    if((np.dot(x, w) > 0) and (y == 1)):\n",
    "        # print(\"True Positive\")\n",
    "        return \"tp\"\n",
    "    elif((np.dot(x, w) < 0) and (y == 0)):\n",
    "        # print(\"True Negative\")\n",
    "        return \"tn\"\n",
    "    elif((np.dot(x, w) > 0) and (y == 0)):\n",
    "        # print(\"False Positive\")\n",
    "        return \"fp\"\n",
    "    elif((np.dot(x, w) < 0) and (y == 1)):\n",
    "        # print(\"False Negative\")\n",
    "        return \"fn\""
   ]
  },
  {
   "cell_type": "code",
   "execution_count": 31,
   "id": "7a897c94",
   "metadata": {},
   "outputs": [
    {
     "data": {
      "application/vnd.jupyter.widget-view+json": {
       "model_id": "70ab22715b0a4492a0f32b9926f22b3e",
       "version_major": 2,
       "version_minor": 0
      },
      "text/plain": [
       "VBox()"
      ]
     },
     "metadata": {},
     "output_type": "display_data"
    },
    {
     "data": {
      "application/vnd.jupyter.widget-view+json": {
       "model_id": "",
       "version_major": 2,
       "version_minor": 0
      },
      "text/plain": [
       "FloatProgress(value=0.0, bar_style='info', description='Progress:', layout=Layout(height='25px', width='50%'),…"
      ]
     },
     "metadata": {},
     "output_type": "display_data"
    }
   ],
   "source": [
    "prediction = testingData.map(lambda x: predict(x[1], x[0], w)).collect()\n",
    "\n",
    "fpList = list()\n",
    "tp = 0\n",
    "tn = 0\n",
    "fp = 0\n",
    "fn = 0\n",
    "\n",
    "for idx, i in enumerate(prediction):\n",
    "    if i == \"tp\":\n",
    "        tp += 1\n",
    "    elif i == \"tn\":\n",
    "        tn += 1\n",
    "    elif i == \"fp\":\n",
    "        fp += 1\n",
    "        fpList.append(idx)\n",
    "    elif i == \"fn\":\n",
    "        fn += 1"
   ]
  },
  {
   "cell_type": "code",
   "execution_count": 32,
   "id": "db7ce7ce",
   "metadata": {},
   "outputs": [
    {
     "data": {
      "application/vnd.jupyter.widget-view+json": {
       "model_id": "c3f79103d2264a6387f7eb739d99580c",
       "version_major": 2,
       "version_minor": 0
      },
      "text/plain": [
       "VBox()"
      ]
     },
     "metadata": {},
     "output_type": "display_data"
    },
    {
     "data": {
      "application/vnd.jupyter.widget-view+json": {
       "model_id": "",
       "version_major": 2,
       "version_minor": 0
      },
      "text/plain": [
       "FloatProgress(value=0.0, bar_style='info', description='Progress:', layout=Layout(height='25px', width='50%'),…"
      ]
     },
     "metadata": {},
     "output_type": "display_data"
    },
    {
     "name": "stdout",
     "output_type": "stream",
     "text": [
      "TP: 218\n",
      "TN: 8711\n",
      "FP: 9636\n",
      "FN: 159"
     ]
    }
   ],
   "source": [
    "print(f'TP: {tp}')\n",
    "print(f'TN: {tn}')\n",
    "print(f'FP: {fp}')\n",
    "print(f'FN: {fn}')"
   ]
  },
  {
   "cell_type": "code",
   "execution_count": 33,
   "id": "1b29afbb",
   "metadata": {},
   "outputs": [
    {
     "data": {
      "application/vnd.jupyter.widget-view+json": {
       "model_id": "3220fffd298c429b81ce18b0a98fbb44",
       "version_major": 2,
       "version_minor": 0
      },
      "text/plain": [
       "VBox()"
      ]
     },
     "metadata": {},
     "output_type": "display_data"
    },
    {
     "data": {
      "application/vnd.jupyter.widget-view+json": {
       "model_id": "",
       "version_major": 2,
       "version_minor": 0
      },
      "text/plain": [
       "FloatProgress(value=0.0, bar_style='info', description='Progress:', layout=Layout(height='25px', width='50%'),…"
      ]
     },
     "metadata": {},
     "output_type": "display_data"
    },
    {
     "name": "stdout",
     "output_type": "stream",
     "text": [
      "8929 out of 18724 correct.\n",
      "Precision: 0.022122995737771465\n",
      "Recall: 0.5782493368700266\n",
      "F1 Score: 0.042615580099697"
     ]
    }
   ],
   "source": [
    "precision = tp / (tp + fp)\n",
    "recall = tp / (tp + fn)\n",
    "f1score = 2 * precision * recall / (precision + recall)\n",
    "print(\"%d out of %d correct.\" % (tp + tn, len(prediction)))\n",
    "print(f\"Precision: {precision}\")\n",
    "print(f\"Recall: {recall}\")\n",
    "print(f\"F1 Score: {f1score}\\n\")"
   ]
  },
  {
   "cell_type": "code",
   "execution_count": 243,
   "id": "961d0610",
   "metadata": {},
   "outputs": [
    {
     "data": {
      "application/vnd.jupyter.widget-view+json": {
       "model_id": "5b5439ec58214ffbb9d7788c3b5c7f57",
       "version_major": 2,
       "version_minor": 0
      },
      "text/plain": [
       "VBox()"
      ]
     },
     "metadata": {},
     "output_type": "display_data"
    },
    {
     "data": {
      "application/vnd.jupyter.widget-view+json": {
       "model_id": "",
       "version_major": 2,
       "version_minor": 0
      },
      "text/plain": [
       "FloatProgress(value=0.0, bar_style='info', description='Progress:', layout=Layout(height='25px', width='50%'),…"
      ]
     },
     "metadata": {},
     "output_type": "display_data"
    },
    {
     "name": "stdout",
     "output_type": "stream",
     "text": [
      "[103, 341, 512, 549, 771, 839, 1676, 3054]"
     ]
    }
   ],
   "source": [
    "print(fpList)\n",
    "checkFP = keyAndText.collect()"
   ]
  },
  {
   "cell_type": "code",
   "execution_count": 247,
   "id": "0281321b",
   "metadata": {},
   "outputs": [
    {
     "data": {
      "application/vnd.jupyter.widget-view+json": {
       "model_id": "b01e71e3615f473b869557b0919b35ea",
       "version_major": 2,
       "version_minor": 0
      },
      "text/plain": [
       "VBox()"
      ]
     },
     "metadata": {},
     "output_type": "display_data"
    },
    {
     "data": {
      "application/vnd.jupyter.widget-view+json": {
       "model_id": "",
       "version_major": 2,
       "version_minor": 0
      },
      "text/plain": [
       "FloatProgress(value=0.0, bar_style='info', description='Progress:', layout=Layout(height='25px', width='50%'),…"
      ]
     },
     "metadata": {},
     "output_type": "display_data"
    },
    {
     "name": "stdout",
     "output_type": "stream",
     "text": [
      "('35399712', ' Rainy Sky SA and others v Kookmin Bank  Rainy Sky SA and others v Kookmin Bank  is an English contract law case concerning interpretation of contracts. The Supreme Court confirmed the principle laid down in \"Wickman v Schuler\" that, if the words of a contract have ambiguous meanings, the court will interpret it in a manner that most accords with \"business common sense\". There is no requirement for a party to prove that the alternative interpretation is entirely unreasonable. Facts. Rainy Sky was one of five ship-owning firms that ordered vessels from Jinse Shipbuilding Co, a South Korean shipbuilder, at a cost of US$33,300,000 per ship. The payment was to be made in five equal installments. The contract between Rainy Sky and Jinse permitted Rainy Sky to rescind the contract if various events occurred (such as late delivery or inadequate performance of the vessel, or loss of the vessel before delivery). It also obliged Jinse to refund the payments if it became insolvent, although, in this case, the contract would not automatically be rescinded. Jinse were required to provide the buyers with a performance bond, guaranteeing the repayment of the buyer\\'s money. Jinse obtained such a bond from Kookmin Bank - however, the terms of the bond did not match exactly the terms of the contract, and the central issue in the court case was the interpretation of the bond. The bond stated (\"inter alia\"): \"Pursuant to the terms of the Contract, you [Rainy Sky are entitled, upon your rejection of the Vessel in accordance with the terms of the Contract, your termination, cancellation or rescission of the Contract or upon a Total Loss of the Vessel, to repayment of the pre-delivery instalments...\" \" ...we hereby ... undertake to pay to you ... all such sums due to you under the Contract...\" Rainy Sky had made two of the required payments when Jinse encountered financial difficulties and entered into an insolvency process. This triggered the requirement for it to repay the money, and, as it could not do this, Rainy Sky called on Kookmin Bank to honour the guarantee. Kookmin, however, claimed that it was under no obligation to make the payment, as the bond only covered \"rejection of the vessel\" and \"termination, cancellation or recission of the contract\", not the insolvency of Jinse. Judgement. In the Commercial Court, Simon J, in a summary judgement, ruled that the bond did cover Jinse\\'s obligation to repay on insolvency. He emphasised \"\"all\" such sums\" in paragraph 3, and stated that Kookmin\\'s construction \"has the surprising and uncommercial result that the Buyers would not be able to call on the Bond on the happening of the event which would be most likely to require the first class security.\" Kookmin appealed, and in the Court of Appeal, Patten LJ (with whom Thorpe LJ agreed) supported their interpretation. Patten LJ ruled that the word \"such\" in paragraph 3 could not be ignored, and that, while it was possible that it referred only to the \"pre-delivery installments\" mentioned in paragraph 2, as a matter of grammar, it was more likely (\"in any way evenly balanced\") that it referred to the sums defined in paragraph 2 as a whole (namely, those due on rejection, termination, cancellation, recission, or total loss). He stated that the alternative interpretation \"robs paragraph 2 of any purpose or effect.\" The critical issue was therefore whether or not Kookmin\\'s interpretation was commercially unreasonable. After citing earlier authorities (\"Wickman v Schuler\" [1974 AC 235, \"The Antaios\" AC 191 and \"Chartbrook v Persimmon\" [2009 UKHL 38), he ruled that, because Kookmin\\'s interpretation was not \"absurd or irrational\" or \"so extreme as to suggest that it was unintended\", merely unfavourable to Rainy Sky, it should be accepted. The alternative course would \"put us in real danger of substituting our own judgment of the commerciality of the transaction for that of those who were actually party to it.\" However, Sir Simon Tuckey delivered a dissenting judgement, in which he stated that Simon J\\'s first-instance view that Kookmin\\'s interpretation was \"surprising and uncommercial\" was a legitimate reason for rejecting that interpretation, and that the judgement therefore should not be overturned. The Supreme Court allowed Rainy Sky\\'s appeal. Lord Clarke delivered the judgement. Citing the case of \"Co-operative Wholesale Society Ltd v National Westminster Bank plc\" 1 EGLR 97, he accepted the principle that \"where the parties have used unambiguous language, the court must apply it\", no matter how commercially unreasonable the result. However, in cases of ambiguity, the court should choose the interpretation that is \"most consistent with business common sense\" - there is no obligation on the party contesting the interpretation to prove that it is so extreme that the parties could not have intended it in any circumstances, as Patten LJ\\'s test would imply. Referring to \"Barclays Bank plc v HHY Luxembourg SARL\" EWCA Civ 1248, he held that the correct test was stated by Longmore LJ in that case: \"If a clause is capable of two meanings, as on any view this clause is, it is quite possible that neither meaning will flout common sense. In such circumstances, it is much more appropriate to adopt the more, rather than the less, commercial construction.\" Consequences. Various commentators, such as Oliver Gayner and Cathryn Hopkins of Olswang\\'s and Thomas G. Heintzman of McCarthy Tétrault have suggested that parties to such cases may, as a result of this ruling, seek to introduce expert evidence on the precise degree of \"commercial reasonableness\" that a particular interpretation of a contract would imply.  </doc> ')"
     ]
    }
   ],
   "source": [
    "checkFP[549]"
   ]
  },
  {
   "cell_type": "code",
   "execution_count": null,
   "id": "f771bee2",
   "metadata": {},
   "outputs": [],
   "source": []
  }
 ],
 "metadata": {
  "kernelspec": {
   "display_name": "PySpark",
   "language": "",
   "name": "pysparkkernel"
  },
  "language_info": {
   "codemirror_mode": {
    "name": "python",
    "version": 2
   },
   "mimetype": "text/x-python",
   "name": "pyspark",
   "pygments_lexer": "python2"
  }
 },
 "nbformat": 4,
 "nbformat_minor": 5
}
