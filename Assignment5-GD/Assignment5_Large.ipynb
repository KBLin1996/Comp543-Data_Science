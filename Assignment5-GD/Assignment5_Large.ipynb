{
 "cells": [
  {
   "cell_type": "markdown",
   "id": "dcfcb135",
   "metadata": {},
   "source": [
    "## Task 1"
   ]
  },
  {
   "cell_type": "code",
   "execution_count": 1,
   "id": "0ac27fdc",
   "metadata": {},
   "outputs": [
    {
     "data": {
      "application/vnd.jupyter.widget-view+json": {
       "model_id": "46134577a6da44c680a348e3cefb39cb",
       "version_major": 2,
       "version_minor": 0
      },
      "text/plain": [
       "VBox()"
      ]
     },
     "metadata": {},
     "output_type": "display_data"
    },
    {
     "name": "stdout",
     "output_type": "stream",
     "text": [
      "Starting Spark application\n"
     ]
    },
    {
     "data": {
      "text/html": [
       "<table>\n",
       "<tr><th>ID</th><th>YARN Application ID</th><th>Kind</th><th>State</th><th>Spark UI</th><th>Driver log</th><th>Current session?</th></tr><tr><td>0</td><td>application_1637440549028_0001</td><td>pyspark</td><td>idle</td><td><a target=\"_blank\" href=\"http://ip-172-31-88-237.ec2.internal:20888/proxy/application_1637440549028_0001/\">Link</a></td><td><a target=\"_blank\" href=\"http://ip-172-31-91-245.ec2.internal:8042/node/containerlogs/container_1637440549028_0001_01_000001/livy\">Link</a></td><td>✔</td></tr></table>"
      ],
      "text/plain": [
       "<IPython.core.display.HTML object>"
      ]
     },
     "metadata": {},
     "output_type": "display_data"
    },
    {
     "data": {
      "application/vnd.jupyter.widget-view+json": {
       "model_id": "",
       "version_major": 2,
       "version_minor": 0
      },
      "text/plain": [
       "FloatProgress(value=0.0, bar_style='info', description='Progress:', layout=Layout(height='25px', width='50%'),…"
      ]
     },
     "metadata": {},
     "output_type": "display_data"
    },
    {
     "name": "stdout",
     "output_type": "stream",
     "text": [
      "SparkSession available as 'spark'.\n"
     ]
    },
    {
     "data": {
      "application/vnd.jupyter.widget-view+json": {
       "model_id": "",
       "version_major": 2,
       "version_minor": 0
      },
      "text/plain": [
       "FloatProgress(value=0.0, bar_style='info', description='Progress:', layout=Layout(height='25px', width='50%'),…"
      ]
     },
     "metadata": {},
     "output_type": "display_data"
    }
   ],
   "source": [
    "# Task 1\n",
    "import re\n",
    "import numpy as np\n",
    "\n",
    "# load up the small dataset\n",
    "corpus = sc.textFile(\"s3://chrisjermainebucket/comp330_A5/TrainingDataOneLinePerDoc.txt\")"
   ]
  },
  {
   "cell_type": "code",
   "execution_count": 2,
   "id": "655c1f79",
   "metadata": {},
   "outputs": [
    {
     "data": {
      "application/vnd.jupyter.widget-view+json": {
       "model_id": "93892a57091e4546bdc643ce5e0ad072",
       "version_major": 2,
       "version_minor": 0
      },
      "text/plain": [
       "VBox()"
      ]
     },
     "metadata": {},
     "output_type": "display_data"
    },
    {
     "data": {
      "application/vnd.jupyter.widget-view+json": {
       "model_id": "",
       "version_major": 2,
       "version_minor": 0
      },
      "text/plain": [
       "FloatProgress(value=0.0, bar_style='info', description='Progress:', layout=Layout(height='25px', width='50%'),…"
      ]
     },
     "metadata": {},
     "output_type": "display_data"
    }
   ],
   "source": [
    "# each entry in validLines will be a line from the text file\n",
    "validLines = corpus.filter(lambda x: 'id' in x)\n",
    "# now we transform it into a bunch of (docID, text) pairs\n",
    "keyAndText = validLines.map(lambda x: (x[x.index('id=\"') + 4:x.index('\" url=')], x[x.index('\">') + 2:]))"
   ]
  },
  {
   "cell_type": "code",
   "execution_count": 3,
   "id": "2b6d99fa",
   "metadata": {},
   "outputs": [
    {
     "data": {
      "application/vnd.jupyter.widget-view+json": {
       "model_id": "1c5a3b6b5d464a68a79be0160548fd88",
       "version_major": 2,
       "version_minor": 0
      },
      "text/plain": [
       "VBox()"
      ]
     },
     "metadata": {},
     "output_type": "display_data"
    },
    {
     "data": {
      "application/vnd.jupyter.widget-view+json": {
       "model_id": "",
       "version_major": 2,
       "version_minor": 0
      },
      "text/plain": [
       "FloatProgress(value=0.0, bar_style='info', description='Progress:', layout=Layout(height='25px', width='50%'),…"
      ]
     },
     "metadata": {},
     "output_type": "display_data"
    }
   ],
   "source": [
    "# now we split the text in each (docID, text) pair into a list of words\n",
    "# after this, we have a data set with (docID, [\"word1\", \"word2\", \"word3\", ...])\n",
    "# we have a bit of fancy regular expression stuff here to make sure that we do not\n",
    "# die on some of the documents\n",
    "regex = re.compile('[^a-zA-Z]')\n",
    "keyAndListOfWords = keyAndText.map(lambda x: (str(x[0]), regex.sub(' ', x[1]).lower().split()))\n",
    "\n",
    "# now get the top 20,000 words... first change (docID, [\"word1\", \"word2\", \"word3\", ...])\n",
    "# to (\"word1\", 1) (\"word2\", 1)...\n",
    "allWords = keyAndListOfWords.flatMap(lambda x: ((j, 1) for j in x[1]))\n",
    "\n",
    "# now, count all of the words, giving us (\"word1\", 1433), (\"word2\", 3423423), etc.\n",
    "allCounts = allWords.reduceByKey(lambda a, b: a + b)\n",
    "\n",
    "# and get the top 20,000 words in a local array\n",
    "# each entry is a (\"word1\", count) pair\n",
    "topWords = allCounts.top(20000, lambda x: x[1])"
   ]
  },
  {
   "cell_type": "code",
   "execution_count": 4,
   "id": "d5c311d1",
   "metadata": {},
   "outputs": [
    {
     "data": {
      "application/vnd.jupyter.widget-view+json": {
       "model_id": "dec4af9446f14be5a0f873ded0205d12",
       "version_major": 2,
       "version_minor": 0
      },
      "text/plain": [
       "VBox()"
      ]
     },
     "metadata": {},
     "output_type": "display_data"
    },
    {
     "data": {
      "application/vnd.jupyter.widget-view+json": {
       "model_id": "",
       "version_major": 2,
       "version_minor": 0
      },
      "text/plain": [
       "FloatProgress(value=0.0, bar_style='info', description='Progress:', layout=Layout(height='25px', width='50%'),…"
      ]
     },
     "metadata": {},
     "output_type": "display_data"
    },
    {
     "name": "stdout",
     "output_type": "stream",
     "text": [
      "applicant: 448\n",
      "and: 2\n",
      "attack: 514\n",
      "protein: 3167\n",
      "car: 652"
     ]
    }
   ],
   "source": [
    "# and we'll create a RDD that has a bunch of (word, dictNum) pairs\n",
    "# start by creating an RDD that has the number 0 thru 20000\n",
    "# 20000 is the number of words that will be in our dictionary\n",
    "twentyK = sc.parallelize(range(20000))\n",
    "\n",
    "# now, we transform (0), (1), (2), ... to (\"mostcommonword\", 0) (\"nextmostcommon\", 1), ...\n",
    "# the number will be the spot in the dictionary used to tell us where the word is located\n",
    "# A bunch of (word, posInDictionary) pairs\n",
    "dictionary = twentyK.map(lambda x: (topWords[x][0], x))\n",
    "\n",
    "# Collect the Rdd to a Dict\n",
    "localDict = dictionary.collectAsMap()\n",
    "for inputWord in [\"applicant\", \"and\", \"attack\", \"protein\", \"car\"]:\n",
    "    if inputWord in localDict:\n",
    "        print(f'{inputWord}: {localDict[inputWord]}')\n",
    "    else:\n",
    "        print(f'{inputWord}: -1')"
   ]
  },
  {
   "cell_type": "markdown",
   "id": "0c2c9737",
   "metadata": {},
   "source": [
    "## Task 2"
   ]
  },
  {
   "cell_type": "code",
   "execution_count": 5,
   "id": "ff37da38",
   "metadata": {},
   "outputs": [
    {
     "data": {
      "application/vnd.jupyter.widget-view+json": {
       "model_id": "0a5514603ab04149b72990df336bda0c",
       "version_major": 2,
       "version_minor": 0
      },
      "text/plain": [
       "VBox()"
      ]
     },
     "metadata": {},
     "output_type": "display_data"
    },
    {
     "data": {
      "application/vnd.jupyter.widget-view+json": {
       "model_id": "",
       "version_major": 2,
       "version_minor": 0
      },
      "text/plain": [
       "FloatProgress(value=0.0, bar_style='info', description='Progress:', layout=Layout(height='25px', width='50%'),…"
      ]
     },
     "metadata": {},
     "output_type": "display_data"
    }
   ],
   "source": [
    "# Task 2\n",
    "import math\n",
    "\n",
    "# A bunch of (word, docID) pairs\n",
    "wordDictPair = keyAndListOfWords.flatMap(lambda x: ((j, x[0]) for j in x[1]))\n",
    "# Join the two RDDs, you'll have a bunch of (word, (docID, posInDictionary)) pairs\n",
    "wordPair = wordDictPair.join(dictionary)\n",
    "\n",
    "# Get a bunch of (docid, (listOfAllDictonaryPos)) pairs\n",
    "docIDIdxPair = wordPair.map(lambda x: (x[1][0], x[1][1]))\n",
    "docIDAllIdxPair = docIDIdxPair.groupByKey()\n",
    "docIDAllIdxList = docIDAllIdxPair.map(lambda x: (x[0], list(x[1])))\n",
    "\n",
    "# Then finally, you will write a map () that will take that RDD and convert into the listOfAllDictonary\n",
    "def transformNP(idxList):\n",
    "    array = np.zeros(20000)\n",
    "    for i in idxList:\n",
    "        array[i] += 1\n",
    "    return array\n",
    "result = docIDAllIdxList.map(lambda x: (x[0], transformNP(x[1])))"
   ]
  },
  {
   "cell_type": "code",
   "execution_count": 6,
   "id": "f2084417",
   "metadata": {
    "scrolled": true
   },
   "outputs": [
    {
     "data": {
      "application/vnd.jupyter.widget-view+json": {
       "model_id": "09667a0900ff48b2a4a01bd1299f5917",
       "version_major": 2,
       "version_minor": 0
      },
      "text/plain": [
       "VBox()"
      ]
     },
     "metadata": {},
     "output_type": "display_data"
    },
    {
     "data": {
      "application/vnd.jupyter.widget-view+json": {
       "model_id": "",
       "version_major": 2,
       "version_minor": 0
      },
      "text/plain": [
       "FloatProgress(value=0.0, bar_style='info', description='Progress:', layout=Layout(height='25px', width='50%'),…"
      ]
     },
     "metadata": {},
     "output_type": "display_data"
    }
   ],
   "source": [
    "def findWord(wordList):\n",
    "    arr = np.zeros(20000)\n",
    "    for idx, i in enumerate(wordList):\n",
    "        if i > 0:\n",
    "            arr[idx] += 1\n",
    "    return arr\n",
    "\n",
    "# IDF\n",
    "def IDF(result):\n",
    "    cnt = 0\n",
    "    val = result.map(lambda x: (\"key\", findWord(x[1])))\n",
    "    finalList = val.reduceByKey(lambda a, b: a + b)\n",
    "    return finalList\n",
    "\n",
    "# Calculate IDF values\n",
    "size = result.count()\n",
    "IDFList = IDF(result)\n",
    "IDFArr = np.array(IDFList.lookup(\"key\"))\n",
    "IDFArr = np.log(size / IDFArr)\n",
    "\n",
    "# TF-IDF\n",
    "def TFIDF(arrCnt):\n",
    "    TFArr = arrCnt / arrCnt.sum()\n",
    "    finalResult = np.multiply(TFArr, IDFArr)\n",
    "    return finalResult\n",
    "\n",
    "def predictLabel(inputStr):\n",
    "    regex = re.compile('[^a-zA-Z]')\n",
    "\n",
    "    # Input string to a bunch of words\n",
    "    words = regex.sub(' ', inputStr).lower().split()\n",
    "    wordArr = np.zeros(20000)\n",
    "\n",
    "    for word in words:\n",
    "        if word in localDict.keys():\n",
    "            wordArr[localDict[word]] += 1\n",
    "    inputTFIDF = TFIDF(wordArr)\n",
    "    mean = np.mean(inputTFIDF)\n",
    "    \n",
    "    return inputTFIDF\n",
    "\n",
    "# TFIDF for all dictionaries\n",
    "trainingInfo = keyAndText.map(lambda x: (x[0], predictLabel(x[1])))\n",
    "Data = keyAndText.map(lambda x: (1 if x[0][0:2] == \"AU\" else 0, predictLabel(x[1])))\n",
    "trainingData = Data.map(lambda x: (x[0], x[1][0]))"
   ]
  },
  {
   "cell_type": "code",
   "execution_count": 7,
   "id": "9845ef41",
   "metadata": {},
   "outputs": [
    {
     "data": {
      "application/vnd.jupyter.widget-view+json": {
       "model_id": "6cf7ca63fdf84c4e88d550e0efd15be4",
       "version_major": 2,
       "version_minor": 0
      },
      "text/plain": [
       "VBox()"
      ]
     },
     "metadata": {},
     "output_type": "display_data"
    },
    {
     "data": {
      "application/vnd.jupyter.widget-view+json": {
       "model_id": "",
       "version_major": 2,
       "version_minor": 0
      },
      "text/plain": [
       "FloatProgress(value=0.0, bar_style='info', description='Progress:', layout=Layout(height='25px', width='50%'),…"
      ]
     },
     "metadata": {},
     "output_type": "display_data"
    }
   ],
   "source": [
    "meanVec = trainingData.map(lambda x: (\"key\", x[1]))\n",
    "meanVec = meanVec.reduceByKey(lambda a, b: a+b)\n",
    "meanVec = meanVec.map(lambda x: x[1])\n",
    "mean = meanVec.collect()[0] / size\n",
    "\n",
    "varVec = trainingData.map(lambda x: (\"key\", 10000 * np.square(x[1] - mean)))\n",
    "varVec = varVec.reduceByKey(lambda a, b: a+b)\n",
    "varVec = varVec.map(lambda x: x[1])\n",
    "var = np.sqrt(varVec.collect()[0] / size)\n",
    "var[var == 0] = 1\n",
    "training = trainingData.map(lambda x: (x[0], (x[1] - mean) / var))\n",
    "training = training.cache()"
   ]
  },
  {
   "cell_type": "code",
   "execution_count": 8,
   "id": "ab064e34",
   "metadata": {},
   "outputs": [
    {
     "data": {
      "application/vnd.jupyter.widget-view+json": {
       "model_id": "8ccd08c0c50a45f0a15a6e61200eaca8",
       "version_major": 2,
       "version_minor": 0
      },
      "text/plain": [
       "VBox()"
      ]
     },
     "metadata": {},
     "output_type": "display_data"
    },
    {
     "data": {
      "application/vnd.jupyter.widget-view+json": {
       "model_id": "",
       "version_major": 2,
       "version_minor": 0
      },
      "text/plain": [
       "FloatProgress(value=0.0, bar_style='info', description='Progress:', layout=Layout(height='25px', width='50%'),…"
      ]
     },
     "metadata": {},
     "output_type": "display_data"
    },
    {
     "name": "stdout",
     "output_type": "stream",
     "text": [
      "[(1, array([ 0.00289811,  0.00963589, -0.01407146, ..., -0.00037282,\n",
      "       -0.00036121, -0.00022703]))]"
     ]
    }
   ],
   "source": [
    "training.take(1)"
   ]
  },
  {
   "cell_type": "code",
   "execution_count": 9,
   "id": "96274f06",
   "metadata": {},
   "outputs": [
    {
     "data": {
      "application/vnd.jupyter.widget-view+json": {
       "model_id": "05c99f309c8840f4952729beeadcd510",
       "version_major": 2,
       "version_minor": 0
      },
      "text/plain": [
       "VBox()"
      ]
     },
     "metadata": {},
     "output_type": "display_data"
    },
    {
     "data": {
      "application/vnd.jupyter.widget-view+json": {
       "model_id": "",
       "version_major": 2,
       "version_minor": 0
      },
      "text/plain": [
       "FloatProgress(value=0.0, bar_style='info', description='Progress:', layout=Layout(height='25px', width='50%'),…"
      ]
     },
     "metadata": {},
     "output_type": "display_data"
    }
   ],
   "source": [
    "# x is the data set\n",
    "# y is the labels\n",
    "# w is the current set of weights\n",
    "# c is the weight of the slack variables\n",
    "\n",
    "# Evaluates and returns the gradient\n",
    "def gradient(train, w, c):\n",
    "    l2 = np.linalg.norm(w, 2)\n",
    "    grad_per_row = train.map(lambda x: -1 * x[0] * x[1] + x[1] * (np.exp(np.dot(x[1], w)) / (1 + np.exp(np.dot(x[1], w)))) + c * w * 2)\n",
    "    acc = np.zeros(20000)\n",
    "    grad = grad_per_row.fold(acc, lambda a, b: a + b)\n",
    "    print(f\"Gradient: {grad}\")\n",
    "    return grad"
   ]
  },
  {
   "cell_type": "code",
   "execution_count": 10,
   "id": "4b6cc1aa",
   "metadata": {},
   "outputs": [
    {
     "data": {
      "application/vnd.jupyter.widget-view+json": {
       "model_id": "9d757c9a12594a09a744a2285cffbe01",
       "version_major": 2,
       "version_minor": 0
      },
      "text/plain": [
       "VBox()"
      ]
     },
     "metadata": {},
     "output_type": "display_data"
    },
    {
     "data": {
      "application/vnd.jupyter.widget-view+json": {
       "model_id": "",
       "version_major": 2,
       "version_minor": 0
      },
      "text/plain": [
       "FloatProgress(value=0.0, bar_style='info', description='Progress:', layout=Layout(height='25px', width='50%'),…"
      ]
     },
     "metadata": {},
     "output_type": "display_data"
    }
   ],
   "source": [
    "from operator import add\n",
    "\n",
    "# x is the data set\n",
    "# y is the labels\n",
    "# w is the current set of weights\n",
    "# c is the weight of the slack variables\n",
    "\n",
    "# Evaluates the loss function and returns the loss\n",
    "def f(train, w, c):\n",
    "    l2 = np.linalg.norm(w, 2)\n",
    "    loss_per_row = train.map(lambda x: (\"key\", (-1 * x[0] * np.dot(x[1], w)) + np.log(1 + np.exp(np.dot(x[1], w))) + c * l2 * l2))\n",
    "    loss = loss_per_row.reduceByKey(add).collect()\n",
    "    loss = loss[0][1]\n",
    "    print(f\"Loss: {loss}\")\n",
    "    return loss"
   ]
  },
  {
   "cell_type": "code",
   "execution_count": 11,
   "id": "c8a9613c",
   "metadata": {},
   "outputs": [
    {
     "data": {
      "application/vnd.jupyter.widget-view+json": {
       "model_id": "3caaf2d562a44b0faf2f5a695568c7f5",
       "version_major": 2,
       "version_minor": 0
      },
      "text/plain": [
       "VBox()"
      ]
     },
     "metadata": {},
     "output_type": "display_data"
    },
    {
     "data": {
      "application/vnd.jupyter.widget-view+json": {
       "model_id": "",
       "version_major": 2,
       "version_minor": 0
      },
      "text/plain": [
       "FloatProgress(value=0.0, bar_style='info', description='Progress:', layout=Layout(height='25px', width='50%'),…"
      ]
     },
     "metadata": {},
     "output_type": "display_data"
    }
   ],
   "source": [
    "# performs gradient descent optimization, returns the learned set of weights\n",
    "# uses the bold driver to set the learning rate\n",
    "#\n",
    "# x is the data set\n",
    "# y is the labels\n",
    "# w is the current set of weights  to start with\n",
    "# c is the weight of the slack variable\n",
    "def gd_optimize(train, w, c):\n",
    "    rate = 0.001\n",
    "    w_last = w + np.full(20000, 1.0) \n",
    "    while (abs(f(train, w, c) - f(train, w_last, c))) > 10e-4:\n",
    "        w_last = w \n",
    "        w = w - rate * gradient(train, w, c)\n",
    "        if f(train, w, c) > f(train, w_last, c):\n",
    "            rate = rate * 0.5\n",
    "        else:\n",
    "            rate = rate * 1.1\n",
    "        print(f(train, w, c))\n",
    "    return w"
   ]
  },
  {
   "cell_type": "code",
   "execution_count": 12,
   "id": "d6792d2f",
   "metadata": {},
   "outputs": [
    {
     "data": {
      "application/vnd.jupyter.widget-view+json": {
       "model_id": "27e6e5ab6b354a5cb415a9760d87600c",
       "version_major": 2,
       "version_minor": 0
      },
      "text/plain": [
       "VBox()"
      ]
     },
     "metadata": {},
     "output_type": "display_data"
    },
    {
     "data": {
      "application/vnd.jupyter.widget-view+json": {
       "model_id": "",
       "version_major": 2,
       "version_minor": 0
      },
      "text/plain": [
       "FloatProgress(value=0.0, bar_style='info', description='Progress:', layout=Layout(height='25px', width='50%'),…"
      ]
     },
     "metadata": {},
     "output_type": "display_data"
    },
    {
     "name": "stdout",
     "output_type": "stream",
     "text": [
      "Loss: 457010.70866251236\n",
      "Loss: 34337859.40714984\n",
      "Gradient: [ 141.26390343  -67.68750464  267.74549685 ...  129.13228396  577.85949739\n",
      " -546.74394342]\n",
      "Loss: 2046941.6401948133\n",
      "Loss: 457010.70866251236\n",
      "Loss: 2046941.6401948133\n",
      "2046941.6401948133\n",
      "Loss: 2046941.6401948135\n",
      "Loss: 457010.70866251236\n",
      "Gradient: [ -336.57735512   161.69237857  -651.55062176 ...  -307.40409101\n",
      " -1375.25659548  1301.02141515]\n",
      "Loss: 1038385.3825873439\n",
      "Loss: 2046941.6401948133\n",
      "Loss: 1038385.382587344\n",
      "1038385.382587344\n",
      "Loss: 1038385.3825873439\n",
      "Loss: 2046941.6401948133\n",
      "Gradient: [ 232.71070362 -112.6671571   467.67715483 ...  212.19356804  948.77166474\n",
      " -897.39474599]\n",
      "Loss: 798689.721393297\n",
      "Loss: 1038385.382587344\n",
      "Loss: 798689.7213932971\n",
      "798689.7213932971\n",
      "Loss: 798689.7213932971\n",
      "Loss: 1038385.382587344\n",
      "Gradient: [-200.32072806   98.21596442 -417.14835494 ... -182.34423993 -814.78446007\n",
      "  770.62001375]\n",
      "Loss: 863211.6492981167\n",
      "Loss: 798689.7213932971\n",
      "Loss: 863211.6492981167\n",
      "863211.6492981167\n",
      "Loss: 863211.6492981167\n",
      "Loss: 798689.7213932968\n",
      "Gradient: [ 209.81938371 -104.51968388  451.80443933 ...  190.60061032  851.05188859\n",
      " -804.95615491]\n",
      "Loss: 117255.94772717735\n",
      "Loss: 863211.6492981164\n",
      "Loss: 117255.94772717738\n",
      "117255.94772717738\n",
      "Loss: 117255.94772717735\n",
      "Loss: 863211.6492981167\n",
      "Gradient: [ -4.99436428   3.6746172  -19.23688302 ...  -4.31932433 -18.87557943\n",
      "  17.90904826]\n",
      "Loss: 116856.78597396993\n",
      "Loss: 117255.94772717735\n",
      "Loss: 116856.78597396996\n",
      "116856.78597396996\n",
      "Loss: 116856.78597396995\n",
      "Loss: 117255.94772717735\n",
      "Gradient: [ 0.66765021 -0.69484797  3.07268052 ...  0.5414839   2.30723554\n",
      " -2.21542267]\n",
      "Loss: 116850.59617634391\n",
      "Loss: 116856.78597396993\n",
      "Loss: 116850.59617634391\n",
      "116850.59617634391\n",
      "Loss: 116850.59617634393\n",
      "Loss: 116856.78597396993\n",
      "Gradient: [-0.16982591  0.22252249 -0.85846816 ... -0.12921728 -0.53708209\n",
      "  0.52158394]\n",
      "Loss: 116850.26370232065\n",
      "Loss: 116850.5961763439\n",
      "Loss: 116850.26370232063\n",
      "116850.26370232063\n",
      "Loss: 116850.26370232066\n",
      "Loss: 116850.5961763439\n",
      "Gradient: [ 0.06564453 -0.1016892   0.35153845 ...  0.0469545   0.19036522\n",
      " -0.18690528]\n",
      "Loss: 116850.2249866137\n",
      "Loss: 116850.26370232066\n",
      "Loss: 116850.2249866137\n",
      "116850.2249866137\n",
      "Loss: 116850.22498661373\n",
      "Loss: 116850.26370232066\n",
      "Gradient: [-0.03488828  0.06152408 -0.19406142 ... -0.02351187 -0.09293697\n",
      "  0.09223872]\n",
      "Loss: 116850.21742565675\n",
      "Loss: 116850.22498661373\n",
      "Loss: 116850.21742565675\n",
      "116850.21742565675\n",
      "Loss: 116850.21742565675\n",
      "Loss: 116850.2249866137\n",
      "Gradient: [ 0.02409347 -0.04717766  0.13749773 ...  0.01532966  0.05903355\n",
      " -0.05922869]\n",
      "Loss: 116850.21560498007\n",
      "Loss: 116850.21742565675\n",
      "Loss: 116850.21560498005\n",
      "116850.21560498005\n",
      "Loss: 116850.21560498005\n",
      "Loss: 116850.21742565674\n",
      "Gradient: [-0.02085036  0.04454713 -0.12106562 ... -0.01254837 -0.04703188\n",
      "  0.04771004]\n",
      "Loss: 116850.21574871842\n",
      "Loss: 116850.21560498007\n",
      "Loss: 116850.21574871842\n",
      "116850.21574871842\n",
      "Loss: 116850.2157487184\n",
      "Loss: 116850.21560498007"
     ]
    }
   ],
   "source": [
    "np.random.seed(42)\n",
    "w = np.random.normal(0, 0.1, size=(20000))\n",
    "c = 0.01\n",
    "w = gd_optimize(training, w, 0.01)"
   ]
  },
  {
   "cell_type": "code",
   "execution_count": 13,
   "id": "5605ea76",
   "metadata": {},
   "outputs": [
    {
     "data": {
      "application/vnd.jupyter.widget-view+json": {
       "model_id": "e035670993454bfc938af061e53fb92f",
       "version_major": 2,
       "version_minor": 0
      },
      "text/plain": [
       "VBox()"
      ]
     },
     "metadata": {},
     "output_type": "display_data"
    },
    {
     "data": {
      "application/vnd.jupyter.widget-view+json": {
       "model_id": "",
       "version_major": 2,
       "version_minor": 0
      },
      "text/plain": [
       "FloatProgress(value=0.0, bar_style='info', description='Progress:', layout=Layout(height='25px', width='50%'),…"
      ]
     },
     "metadata": {},
     "output_type": "display_data"
    },
    {
     "name": "stdout",
     "output_type": "stream",
     "text": [
      "['that', 'not', 'any', 'court', 'mr', 'act', 'evidence', 'decision', 'whether', 'applicant', 'application', 'tribunal', 'claim', 'costs', 'matter', 'reasons', 'ltd', 'appeal', 'respondent', 'orders', 'respect', 'relation', 'relevant', 'appellant', 'sought', 'notice', 'circumstances', 'hearing', 'proceedings', 'matters', 'consider', 'pty', 'respondents', 'proceeding', 'regard', 'judgment', 'satisfied', 'submissions', 'affidavit', 'pursuant', 'fca', 'clr', 'relied', 'hca', 'discretion', 'fcr', 'alr', 'fcafc', 'relevantly', 'gummow']"
     ]
    }
   ],
   "source": [
    "idx = np.argpartition(w, -50)[-50:]\n",
    "output = list()\n",
    "\n",
    "for key, value in localDict.items():\n",
    "    if value in idx:\n",
    "        output.append(key)\n",
    "print(output)"
   ]
  },
  {
   "cell_type": "markdown",
   "id": "fcfed9d7",
   "metadata": {},
   "source": [
    "## Task 3"
   ]
  },
  {
   "cell_type": "code",
   "execution_count": 14,
   "id": "c1bd01ca",
   "metadata": {},
   "outputs": [
    {
     "data": {
      "application/vnd.jupyter.widget-view+json": {
       "model_id": "2418a28bda5c4f96b29c7b0e57a6610b",
       "version_major": 2,
       "version_minor": 0
      },
      "text/plain": [
       "VBox()"
      ]
     },
     "metadata": {},
     "output_type": "display_data"
    },
    {
     "data": {
      "application/vnd.jupyter.widget-view+json": {
       "model_id": "",
       "version_major": 2,
       "version_minor": 0
      },
      "text/plain": [
       "FloatProgress(value=0.0, bar_style='info', description='Progress:', layout=Layout(height='25px', width='50%'),…"
      ]
     },
     "metadata": {},
     "output_type": "display_data"
    }
   ],
   "source": [
    "# Testing Data\n",
    "import re\n",
    "import numpy as np\n",
    "\n",
    "# load up the small dataset\n",
    "corpus = sc.textFile(\"s3://chrisjermainebucket/comp330_A5/TestingDataOneLinePerDoc.txt\")\n",
    "# each entry in validLines will be a line from the text file\n",
    "validLines = corpus.filter(lambda x: 'id' in x)\n",
    "# now we transform it into a bunch of (docID, text) pairs\n",
    "keyAndText = validLines.map(lambda x: (x[x.index('id=\"') + 4:x.index('\" url=')], x[x.index('\">') + 2:]))\n",
    "\n",
    "# TFIDF for all dictionaries\n",
    "testingData = keyAndText.map(lambda x: (1 if x[0][0:2] == \"AU\" else 0, predictLabel(x[1])))\n",
    "testingData = testingData.map(lambda x: (x[0], x[1][0]))"
   ]
  },
  {
   "cell_type": "code",
   "execution_count": 35,
   "id": "7ce5e995",
   "metadata": {},
   "outputs": [
    {
     "data": {
      "application/vnd.jupyter.widget-view+json": {
       "model_id": "b2cbf210f6d441d893ffd23784ac2613",
       "version_major": 2,
       "version_minor": 0
      },
      "text/plain": [
       "VBox()"
      ]
     },
     "metadata": {},
     "output_type": "display_data"
    },
    {
     "data": {
      "application/vnd.jupyter.widget-view+json": {
       "model_id": "",
       "version_major": 2,
       "version_minor": 0
      },
      "text/plain": [
       "FloatProgress(value=0.0, bar_style='info', description='Progress:', layout=Layout(height='25px', width='50%'),…"
      ]
     },
     "metadata": {},
     "output_type": "display_data"
    }
   ],
   "source": [
    "# Make predictions using all of the data points in x\n",
    "# print ‘success’ or ‘failure’ depending on whether the \n",
    "# prediction is correct \n",
    "\n",
    "# x is the data set\n",
    "# y is the labels\n",
    "# w is the current set of weights\n",
    "\n",
    "def predict(x, y, w):\n",
    "    if((np.dot(x, w) > 0.008) and (y == 1)):\n",
    "        # print(\"True Positive\")\n",
    "        return \"tp\"\n",
    "    elif((np.dot(x, w) < 0.008) and (y == 0)):\n",
    "        # print(\"True Negative\")\n",
    "        return \"tn\"\n",
    "    elif((np.dot(x, w) > 0.008) and (y == 0)):\n",
    "        # print(\"False Positive\")\n",
    "        return \"fp\"\n",
    "    elif((np.dot(x, w) < 0.008) and (y == 1)):\n",
    "        # print(\"False Negative\")\n",
    "        return \"fn\""
   ]
  },
  {
   "cell_type": "code",
   "execution_count": 36,
   "id": "2926a459",
   "metadata": {},
   "outputs": [
    {
     "data": {
      "application/vnd.jupyter.widget-view+json": {
       "model_id": "33925b8c9611435199b371ce487ec74e",
       "version_major": 2,
       "version_minor": 0
      },
      "text/plain": [
       "VBox()"
      ]
     },
     "metadata": {},
     "output_type": "display_data"
    },
    {
     "data": {
      "application/vnd.jupyter.widget-view+json": {
       "model_id": "",
       "version_major": 2,
       "version_minor": 0
      },
      "text/plain": [
       "FloatProgress(value=0.0, bar_style='info', description='Progress:', layout=Layout(height='25px', width='50%'),…"
      ]
     },
     "metadata": {},
     "output_type": "display_data"
    }
   ],
   "source": [
    "prediction = testingData.map(lambda x: predict(x[1], x[0], w)).collect()\n",
    "\n",
    "fpList = list()\n",
    "tp = 0\n",
    "tn = 0\n",
    "fp = 0\n",
    "fn = 0\n",
    "\n",
    "for idx, i in enumerate(prediction):\n",
    "    if i == \"tp\":\n",
    "        tp += 1\n",
    "    elif i == \"tn\":\n",
    "        tn += 1\n",
    "    elif i == \"fp\":\n",
    "        fp += 1\n",
    "        fpList.append(idx)\n",
    "    elif i == \"fn\":\n",
    "        fn += 1"
   ]
  },
  {
   "cell_type": "code",
   "execution_count": 37,
   "id": "a5f3832a",
   "metadata": {},
   "outputs": [
    {
     "data": {
      "application/vnd.jupyter.widget-view+json": {
       "model_id": "4f97d13d046445179a627d4f71f3b96f",
       "version_major": 2,
       "version_minor": 0
      },
      "text/plain": [
       "VBox()"
      ]
     },
     "metadata": {},
     "output_type": "display_data"
    },
    {
     "data": {
      "application/vnd.jupyter.widget-view+json": {
       "model_id": "",
       "version_major": 2,
       "version_minor": 0
      },
      "text/plain": [
       "FloatProgress(value=0.0, bar_style='info', description='Progress:', layout=Layout(height='25px', width='50%'),…"
      ]
     },
     "metadata": {},
     "output_type": "display_data"
    },
    {
     "name": "stdout",
     "output_type": "stream",
     "text": [
      "TP: 328\n",
      "TN: 18340\n",
      "FP: 7\n",
      "FN: 49"
     ]
    }
   ],
   "source": [
    "print(f'TP: {tp}')\n",
    "print(f'TN: {tn}')\n",
    "print(f'FP: {fp}')\n",
    "print(f'FN: {fn}')"
   ]
  },
  {
   "cell_type": "code",
   "execution_count": 38,
   "id": "a9e728ef",
   "metadata": {},
   "outputs": [
    {
     "data": {
      "application/vnd.jupyter.widget-view+json": {
       "model_id": "d7301393d0074c17b42109145094f8b8",
       "version_major": 2,
       "version_minor": 0
      },
      "text/plain": [
       "VBox()"
      ]
     },
     "metadata": {},
     "output_type": "display_data"
    },
    {
     "data": {
      "application/vnd.jupyter.widget-view+json": {
       "model_id": "",
       "version_major": 2,
       "version_minor": 0
      },
      "text/plain": [
       "FloatProgress(value=0.0, bar_style='info', description='Progress:', layout=Layout(height='25px', width='50%'),…"
      ]
     },
     "metadata": {},
     "output_type": "display_data"
    },
    {
     "name": "stdout",
     "output_type": "stream",
     "text": [
      "18668 out of 18724 correct.\n",
      "Precision: 0.9791044776119403\n",
      "Recall: 0.870026525198939\n",
      "F1 Score: 0.9213483146067415"
     ]
    }
   ],
   "source": [
    "precision = tp / (tp + fp)\n",
    "recall = tp / (tp + fn)\n",
    "f1score = 2 * precision * recall / (precision + recall)\n",
    "print(\"%d out of %d correct.\" % (tp + tn, len(prediction)))\n",
    "print(f\"Precision: {precision}\")\n",
    "print(f\"Recall: {recall}\")\n",
    "print(f\"F1 Score: {f1score}\\n\")"
   ]
  },
  {
   "cell_type": "code",
   "execution_count": 39,
   "id": "4e912b44",
   "metadata": {},
   "outputs": [
    {
     "data": {
      "application/vnd.jupyter.widget-view+json": {
       "model_id": "dfe99c7211f34ff3ae3d72b49174c251",
       "version_major": 2,
       "version_minor": 0
      },
      "text/plain": [
       "VBox()"
      ]
     },
     "metadata": {},
     "output_type": "display_data"
    },
    {
     "data": {
      "application/vnd.jupyter.widget-view+json": {
       "model_id": "",
       "version_major": 2,
       "version_minor": 0
      },
      "text/plain": [
       "FloatProgress(value=0.0, bar_style='info', description='Progress:', layout=Layout(height='25px', width='50%'),…"
      ]
     },
     "metadata": {},
     "output_type": "display_data"
    },
    {
     "name": "stdout",
     "output_type": "stream",
     "text": [
      "[1617, 3342, 12672, 13317, 14579, 14610, 17997]"
     ]
    }
   ],
   "source": [
    "print(fpList)\n",
    "checkFP = keyAndText.collect()"
   ]
  },
  {
   "cell_type": "code",
   "execution_count": 43,
   "id": "18ba5087",
   "metadata": {},
   "outputs": [
    {
     "data": {
      "application/vnd.jupyter.widget-view+json": {
       "model_id": "b840101beb86492783b23d763bf056a0",
       "version_major": 2,
       "version_minor": 0
      },
      "text/plain": [
       "VBox()"
      ]
     },
     "metadata": {},
     "output_type": "display_data"
    },
    {
     "data": {
      "application/vnd.jupyter.widget-view+json": {
       "model_id": "",
       "version_major": 2,
       "version_minor": 0
      },
      "text/plain": [
       "FloatProgress(value=0.0, bar_style='info', description='Progress:', layout=Layout(height='25px', width='50%'),…"
      ]
     },
     "metadata": {},
     "output_type": "display_data"
    },
    {
     "name": "stdout",
     "output_type": "stream",
     "text": [
      "('3279480', ' Court of Appeal of Singapore  The Court of Appeal of the Republic of Singapore is the nation\\'s highest court and its court of final appeal. It is the upper division of the Supreme Court of Singapore, the lower being the High Court. The Court of Appeal consists of the Chief Justice of Singapore, who is the President of the Court, and the Judges of Appeal. The Chief Justice may ask judges of the High Court to sit as members of the Court of Appeal to hear particular cases. The seat of the Court of Appeal is the Supreme Court Building. The Court exercises only appellate jurisdiction in civil and criminal matters. In other words, it possesses no original jurisdiction\\xa0– it does not deal with trials of matters coming before the court for the first time. In general, the Court hears civil appeals from decisions of the High Court made in the exercise of the latter\\'s original and appellate jurisdiction, that is, decisions on cases that started in the High Court as well as decisions that were appealed from the Subordinate Courts to the High Court. However, this rule is subject to various restrictions. Some types of High Court decisions are not appealable to the Court of Appeal, while others are only appealable if the Court grants leave (permission). Where criminal matters are concerned, the Court only hears appeals from cases originating in the High Court. Matters heard by the High Court on appeal from the Subordinate Courts cannot be further appealed to the Court of Appeal, though questions of law may be submitted to the Court for determination. Under the principles of \"stare decisis\" (judicial precedent), Court of Appeal decisions are binding on the High Court and Subordinate Courts. As Singapore\\'s final appellate court, the Court of Appeal is not required to follow its own previous decisions and the decisions of predecessor courts such as the Supreme Court of the Straits Settlements and the Judicial Committee of the Privy Council, and may depart from or overrule such decisions if it thinks fit. However, it will generally not do so without a strong reason. The Court of Appeal is required, however, to abide by decisions of the Constitution of the Republic of Singapore Tribunal in certain situations. The Constitution of Singapore states that where the President has referred to the Tribunal a question concerning the Constitution\\'s effect on a bill, no court\\xa0– including the Court of Appeal\\xa0– may subsequently question the Tribunal\\'s opinion on the bill or, assuming the bill is found to be constitutional, the validity of any law based on the bill. History. The Court of Appeal is Singapore\\'s highest court, and thus its court of final appeal. Its earliest predecessor was the Supreme Court of the Straits Settlements which, following legal changes introduced in 1873, had jurisdiction to sit as a Full Court of Appeal with not less than three judges and as a Divisional Court at each settlement. However, the Court of Appeal of the Straits Settlements was not the highest appellate court of the colony. From 1826, when Singapore\\'s first court\\xa0– the Court of Judicature of Prince of Wales\\' Island, Singapore, and Malacca\\xa0– was established, appeals lay to the King-in-Council. Such appeals were taken over by the Judicial Committee of the Privy Council from 1844. A party wishing to appeal had to petition the Judicial Committee for leave (permission) to do so. In 1934, a separate Court of Criminal Appeal was established in the Straits Settlements. All courts ceased to function during World War II when the Japanese occupation of Singapore began in February 1942. Though the Japanese military authorities created a court of appeal, it did not hear any cases. Following the end of the occupation in 1945, all pre-war courts were revived. There was no change in the judicial system when the Straits Settlements were dissolved in 1946 and Singapore became a crown colony in its own right, except that the Supreme Court of the Straits Settlements became known as the Supreme Court of Singapore. Singapore ceased to be part of the British Empire in 1963 when it joined the Federation of Malaysia. In 1964, the Supreme Court of the Colony of Singapore was replaced by the High Court of Malaysia in Singapore, appeals from which lay to the Federal Court of Malaysia in Kuala Lumpur. The Privy Council remained the final appellate court, although appellants now submitted their petitions to the Yang di-Pertuan Agong (head of state of Malaysia) who sent them on to the Judicial Committee. In turn, the Judicial Committee conveyed their recommendations on appeals to the Yang di-Pertuan Agong, who then made the final orders. Singapore left the Federation in 1965. At the time of the nation\\'s full independence, no changes were made to the judicial system. It was only with effect from 9 January 1970 that the Supreme Court of the Republic of Singapore consisting of the Court of Appeal and High Court was established. The Judicial Committee Act 1966 was passed to enable the Privy Council to continue its role as Singapore\\'s final court of appeal, and to remove the need to petition the British monarch or the Yang di-Pertuan Agong in order to appeal. In 1985, 21 out of 142 appeals heard by the Privy Council originated from Singapore. Moves towards full legal autochthony from Britain began in 1989, when appeals to the Privy Council were limited in the wake of a 1988 Privy Council ruling reversing the Court of Appeal\\'s decision to strike opposition politician J.B. Jeyaretnam off the roll of advocates and solicitors for having been convicted of cheque fraud and making a false declaration concerning the accounts of the Workers\\' Party of Singapore. The Privy Council judged Jeyaretnam to have been the victim of a \"grievous injustice\" in Singapore\\'s courts, having been \"fined, imprisoned and publicly disgraced for offences of which and his co-accused were not guilty\". Under the new rules, in civil cases to appeal to the Privy Council all parties to the proceedings had to consent, while in criminal cases appeals could only be brought in death penalty cases when the Court of Criminal Appeal\\'s decision had not been unanimous. Subsequently, with effect from 8 April 1994, all remaining appeals to the Privy Council were abolished. The Court of Criminal Appeal was done away with, and a single permanent Court of Appeal exercising both civil and criminal appellate jurisdiction was instituted with the Chief Justice sitting as the President of the Court together with Judges of Appeal, who rank above ordinary judges of the High Court. Constitution of the Court. The Supreme Court of Singapore is the nation\\'s superior court of record. It is superior in the sense that its jurisdiction to hear civil and criminal cases is unlimited compared to the Subordinate Courts of Singapore, and it hears appeals from lower courts. As a court of record, it keeps a perpetual record of its proceedings. The Court of Appeal is the upper division of the Supreme Court, the lower one being the High Court. The Court of Appeal is made up of the Chief Justice, who is the President of the Court, and the Judges of Appeal. The Chief Justice may appoint Judges of Appeal as vice-presidents of the Court. As of 6 November 2012, the Chief Justice was Sundaresh Menon and the Judges of Appeal were Chao Hick Tin (2 August 1999\\xa0– 10 April 2006; reappointed 11 April 2008), Andrew Phang Boon Leong (appointed 28 February 2006) and V.K. Rajah (11 April 2007). Chao J.A. was appointed Vice-President of the Court with effect from 18 April 2008. When hearing civil and criminal matters, the Court of Appeal usually sits with three Judges of Appeal, one of whom is the Chief Justice. However, the Court may also sit with a greater uneven number of Judges of Appeal. This is done in cases of unusual difficulty or importance. As of December 2010 the Court had sat twice with a bench of five judges. The more recent case was the 1995 decision \"Public Prosecutor v. Tan Meng Khin\", in which the Court overruled its own decision handed down the previous year that had set out a different interpretation of section 40(3) of the Penal Code. The Court may also sit with just two Judges of Appeal in appeals in civil matters against interlocutory orders and other orders apart from judgments handed down after trials commenced by writs of summons or hearings commenced by other originating processes such as originating summons. High Court judges may be requested by the Chief Justice to sit as judges of the Court of Appeal to hear specific appeals. Judges of Appeals cannot sit as members of the Court when appeals are against judgments or orders made by them, convictions made or a sentences passed by them, or questions of law reserved by them for the Court of Appeal to decide when they were acting as High Court judges. If the Court feels it requires assistance in a particular case, it may summon persons of skill and experience in the matter to which the proceedings relate to sit with the Court and act as assessors. Matters before the Court are decided according to the opinion of the majority of the members of the Court hearing the case. If there are only two judges hearing an appeal and they disagree, the appeal is dismissed and the decision appealed against stands. The schedule of the Court\\'s sittings is determined every year by the Chief Justice. In general, the Court sits throughout the year except during the mid-year and end-year court vacations (usually end of May to end of June, and the beginning of December to the beginning of January respectively). The Chief Justice also appoints the places where the Court sits. When the Supreme Court moved from the Old Supreme Court Building and City Hall Building at 1 and 3 Saint Andrew\\'s Road respectively to the present Supreme Court Building at 1 Supreme Court Lane, the Chief Justice formally appointed the new building as a place where the Court of Appeal sits by way of a notification dated 20 June 2005. Jurisdiction. The Court of Appeal is solely an appellate court. It hears only appeals from the High Court, and does not deal with any trials or other first-instance matters, that is, matters coming to court for the first time. Appellate civil jurisdiction. In general, the Court hears civil appeals from any High Court judgment or order. These can be decisions made by the High Court when exercising its original jurisdiction (in other words, cases beginning in the High Court itself) or its appellate jurisdiction (cases appealed to the High Court from the Subordinate Courts). However, this general rule is subject to a number of restrictions. No appeal may be brought from certain interlocutory orders made by the High Court, when a judgment or order is made with the parties\\' consent, and where a statute declares that a judgment or order of the High Court is final. In some other cases, an appeal may only be brought with the leave of a High Court judge. These include cases where the amount or value of the subject-matter at the trial was S$250,000 or less, and High Court appeals concerning the adoption of children, the making of protection orders to prevent family violence, and maintenance for wives and children. Appeals to the Court are by way of rehearing. The Court is not required to accept any findings of fact or law made by the High Court, but hears afresh the parties\\' submissions on the issues in the appeal and comes to an independent decision. However, the Court relies on the evidence that was adduced in the court below and only permits new evidence to be admitted on special grounds. During an appeal, the Court possesses all the powers and duties of the High Court, and has \"full power to determine any question necessary to be determined for the purpose of doing justice in any case before the Court\". In particular, the Court has power to order a new trial on any issue by the High Court, except that the fact that the High Court improperly admitted or rejected evidence shall not be grounds for a new trial unless the Court of Appeal is of the view that some substantial wrong or miscarriage of justice was caused. The Court of Appeal may only order a new trial, or reverse or substantially vary a High Court judgment or order on significant grounds. It will not act in this manner on the basis of immaterial errors, defects or irregularities that do not affect the merits of the case or the jurisdiction of the High Court. Appellate criminal jurisdiction. Criminal appeals. The Court of Appeal only hears appeals from decisions of the High Court made when the latter is exercising original criminal jurisdiction. In other words, matters heard by the High Court on appeal from the Subordinate Courts cannot be further appealed to the Court of Appeal, though questions of law may be reserved for determination by the Court (see below). A person convicted in the High Court can appeal against the conviction, the sentence or both, unless he or she pleaded guilty in which case only an appeal against the extent or legality of the sentence is permitted. In the latter situation, the Court of Appeal may nonetheless permit the person who pleaded guilty to appeal against conviction if it believes that this is in the interests of justice. The Public Prosecutor may appeal against an acquittal or the sentence imposed on an accused person. The Court is entitled to summarily reject an appeal if the grounds of appeal do not involve any question of law, the conviction is supportable by the evidence, and there is nothing in the circumstances of the case which raises a reasonable doubt as to whether the conviction was right or leads the Court to think the sentence should be reduced. The summary rejection of an appeal may only be done upon the unanimous decision of the Judges of Appeal. If it is of the view that additional evidence is required, the Court may either take this evidence itself or order the trial court to take it. The Court may also ask the trial court to give a report of any matter relating to the trial. Following the hearing of an appeal, the Court may confirm, reverse or vary the trial court\\'s decision. It may also order a retrial; inform the High Court of its opinion on a matter and send it back to that court for further proceedings to be taken; or make any other order as it thinks just, exercising any power that the trial court might have exercised. The Court also has power to quash the sentence passed by the trial court and substitute a more or less severe sentence in its place. A trial court\\'s judgment, sentence or order may only be reversed or set aside if it was legally incorrect or against the weight of the evidence. A sentence may only be altered if it is manifestly excessive or inadequate in the circumstances of the case. Even if the Court feels that a point raised in an appeal might be decided in the appellant\\'s favour, it may dismiss the appeal if it considers that no substantial miscarriage of justice took place. The Court generally only issues a single judgment, though separate judgments may be given if the presiding Judge of Appeal so directs. In the 2009 decision \"Yong Vui Kong v. Public Prosecutor\", the Court left open the issue of whether it had inherent jurisdiction following the conclusion of an appeal to reopen the matter if new evidence came to light. It expressed the view that \"it would be in the interest of justice that the court should have the power to correct the mistake, rather than rely on the Executive to correct what is essentially an error in the judicial process\", and that it is \"reasonable to assume that the court is better placed to evaluate the merits of the new evidence than the Executive\". In earlier cases the view had been taken that in the interests of finality, after delivering its judgment in an appeal the Court should be regarded as \"functus officio\", that is, it has fully \"performed its office\" and no longer has any legal power to act. However, in \"Yong Vui Kong\" the Court said: A possible argument, which had not yet been posed to the Court, was that Article 93 of the Constitution, which vests the judicial power of Singapore in the Supreme Court, conferred on the Court of Appeal the power to reopen concluded appeals. Although judicial power is only exercisable when the court has jurisdiction in a matter, \"where the SCJA Court of Judicature Act does not expressly state when its jurisdiction in a criminal appeal ends, there is no reason for this court to circumscribe its own jurisdiction to render itself incapable of correcting a miscarriage of justice at any time\". Determination of questions of law. If a person has been convicted by the High Court, the trial judge and the Public Prosecutor may reserve for the Court of Appeal\\'s decision any questions of law that arose during the trial that would affect its outcome. Any other party to the proceedings may also apply for the trial judge to state a case on a question of law for the Court of Appeal\\'s determination, and if the judge declines to do so the party may apply to the Court of Appeal to direct the trial judge to state a case. During a Subordinate Court trial, instead of applying for the trial judge to state a case for the High Court\\'s opinion, a party to the proceedings may apply to the Court of Appeal for leave for a case to be stated directly to that Court. Upon a review of the case, the Court of Appeal will make a determination on the question and may then alter the sentence passed, pass a sentence, or give such judgment or make such order as it deems fit. The Court of Appeal exercises a similar power to determine questions of law reserved for its decision by the High Court or the Public Prosecutor after the High Court has heard an appeal from a Subordinate Court or has exercised its revisionary jurisdiction. Any question of law on which there is a conflict of judicial authority is deemed to be a question of public interest. Judicial precedent. As the highest court of Singapore and its final appellate court, under the principles of \"stare decisis\" (judicial precedent) decisions of the Court of Appeal are binding on the High Court and Subordinate Courts. Even if judges in these courts disagree with the reasoning given by the Court of Appeal in particular cases, they are required to apply the legal principles laid down in those cases. The Court of Appeal became Singapore\\'s final appellate court following the abolition of all appeals to the Privy Council with effect from 8 April 1994. On 11 July that year, the Court handed down a practice statement declaring that it would regard itself free to depart from previous decisions of its own or of the Privy Council The Court justified this new principle on the basis that \"the political, social and economic circumstances of Singapore have changed enormously since Singapore became an independent and sovereign republic. The development of our law should reflect these changes and the fundamental values of Singapore society.\" Where the President has referred to the Constitution of the Republic of Singapore Tribunal a question concerning the Constitution\\'s effect on a bill, no court\\xa0– including the Court of Appeal\\xa0– may subsequently question the Tribunal\\'s opinion on the bill or, assuming the bill is found to be constitutional, the validity of any law based on the bill.  </doc> ')"
     ]
    }
   ],
   "source": [
    "checkFP[13317]"
   ]
  },
  {
   "cell_type": "code",
   "execution_count": null,
   "id": "d0cfc590",
   "metadata": {},
   "outputs": [],
   "source": []
  }
 ],
 "metadata": {
  "kernelspec": {
   "display_name": "PySpark",
   "language": "",
   "name": "pysparkkernel"
  },
  "language_info": {
   "codemirror_mode": {
    "name": "python",
    "version": 2
   },
   "mimetype": "text/x-python",
   "name": "pyspark",
   "pygments_lexer": "python2"
  }
 },
 "nbformat": 4,
 "nbformat_minor": 5
}
