{
 "cells": [
  {
   "cell_type": "markdown",
   "id": "410c71df",
   "metadata": {},
   "source": [
    "## Task 1"
   ]
  },
  {
   "cell_type": "code",
   "execution_count": 1,
   "id": "175fd055",
   "metadata": {},
   "outputs": [
    {
     "data": {
      "application/vnd.jupyter.widget-view+json": {
       "model_id": "404aff62cc5b4f96873eadfc3772d81f",
       "version_major": 2,
       "version_minor": 0
      },
      "text/plain": [
       "VBox()"
      ]
     },
     "metadata": {},
     "output_type": "display_data"
    },
    {
     "name": "stdout",
     "output_type": "stream",
     "text": [
      "Starting Spark application\n"
     ]
    },
    {
     "data": {
      "text/html": [
       "<table>\n",
       "<tr><th>ID</th><th>YARN Application ID</th><th>Kind</th><th>State</th><th>Spark UI</th><th>Driver log</th><th>Current session?</th></tr><tr><td>3</td><td>application_1637440549028_0004</td><td>pyspark</td><td>idle</td><td><a target=\"_blank\" href=\"http://ip-172-31-88-237.ec2.internal:20888/proxy/application_1637440549028_0004/\">Link</a></td><td><a target=\"_blank\" href=\"http://ip-172-31-86-80.ec2.internal:8042/node/containerlogs/container_1637440549028_0004_01_000001/livy\">Link</a></td><td>✔</td></tr></table>"
      ],
      "text/plain": [
       "<IPython.core.display.HTML object>"
      ]
     },
     "metadata": {},
     "output_type": "display_data"
    },
    {
     "data": {
      "application/vnd.jupyter.widget-view+json": {
       "model_id": "",
       "version_major": 2,
       "version_minor": 0
      },
      "text/plain": [
       "FloatProgress(value=0.0, bar_style='info', description='Progress:', layout=Layout(height='25px', width='50%'),…"
      ]
     },
     "metadata": {},
     "output_type": "display_data"
    },
    {
     "name": "stdout",
     "output_type": "stream",
     "text": [
      "SparkSession available as 'spark'.\n"
     ]
    },
    {
     "data": {
      "application/vnd.jupyter.widget-view+json": {
       "model_id": "",
       "version_major": 2,
       "version_minor": 0
      },
      "text/plain": [
       "FloatProgress(value=0.0, bar_style='info', description='Progress:', layout=Layout(height='25px', width='50%'),…"
      ]
     },
     "metadata": {},
     "output_type": "display_data"
    }
   ],
   "source": [
    "# Task 1\n",
    "import re\n",
    "import numpy as np\n",
    "\n",
    "# load up the small dataset\n",
    "corpus = sc.textFile(\"s3://chrisjermainebucket/comp330_A5/TestingDataOneLinePerDoc.txt\")"
   ]
  },
  {
   "cell_type": "code",
   "execution_count": 2,
   "id": "d4107f22",
   "metadata": {},
   "outputs": [
    {
     "data": {
      "application/vnd.jupyter.widget-view+json": {
       "model_id": "b64a59d290e348119d61734da2c26dea",
       "version_major": 2,
       "version_minor": 0
      },
      "text/plain": [
       "VBox()"
      ]
     },
     "metadata": {},
     "output_type": "display_data"
    },
    {
     "data": {
      "application/vnd.jupyter.widget-view+json": {
       "model_id": "",
       "version_major": 2,
       "version_minor": 0
      },
      "text/plain": [
       "FloatProgress(value=0.0, bar_style='info', description='Progress:', layout=Layout(height='25px', width='50%'),…"
      ]
     },
     "metadata": {},
     "output_type": "display_data"
    }
   ],
   "source": [
    "# each entry in validLines will be a line from the text file\n",
    "validLines = corpus.filter(lambda x: 'id' in x)\n",
    "# now we transform it into a bunch of (docID, text) pairs\n",
    "keyAndText = validLines.map(\n",
    "    lambda x: (x[x.index('id=\"') + 4:x.index('\" url=')], x[x.index('\">') + 2:]))"
   ]
  },
  {
   "cell_type": "code",
   "execution_count": 3,
   "id": "8fbd59b9",
   "metadata": {},
   "outputs": [
    {
     "data": {
      "application/vnd.jupyter.widget-view+json": {
       "model_id": "fe3acfca553b490fb1b710c3022a4b93",
       "version_major": 2,
       "version_minor": 0
      },
      "text/plain": [
       "VBox()"
      ]
     },
     "metadata": {},
     "output_type": "display_data"
    },
    {
     "data": {
      "application/vnd.jupyter.widget-view+json": {
       "model_id": "",
       "version_major": 2,
       "version_minor": 0
      },
      "text/plain": [
       "FloatProgress(value=0.0, bar_style='info', description='Progress:', layout=Layout(height='25px', width='50%'),…"
      ]
     },
     "metadata": {},
     "output_type": "display_data"
    }
   ],
   "source": [
    "# now we split the text in each (docID, text) pair into a list of words\n",
    "# after this, we have a data set with (docID, [\"word1\", \"word2\", \"word3\", ...])\n",
    "# we have a bit of fancy regular expression stuff here to make sure that we do not\n",
    "# die on some of the documents\n",
    "regex = re.compile('[^a-zA-Z]')\n",
    "keyAndListOfWords = keyAndText.map(\n",
    "    lambda x: (str(x[0]), regex.sub(' ', x[1]).lower().split()))\n",
    "\n",
    "# now get the top 20,000 words... first change (docID, [\"word1\", \"word2\", \"word3\", ...])\n",
    "# to (\"word1\", 1) (\"word2\", 1)...\n",
    "allWords = keyAndListOfWords.flatMap(lambda x: ((j, 1) for j in x[1]))\n",
    "\n",
    "# now, count all of the words, giving us (\"word1\", 1433), (\"word2\", 3423423), etc.\n",
    "allCounts = allWords.reduceByKey(lambda a, b: a + b)\n",
    "\n",
    "# and get the top 20,000 words in a local array\n",
    "# each entry is a (\"word1\", count) pair\n",
    "topWords = allCounts.top(20000, lambda x: x[1])"
   ]
  },
  {
   "cell_type": "code",
   "execution_count": 4,
   "id": "592926a5",
   "metadata": {},
   "outputs": [
    {
     "data": {
      "application/vnd.jupyter.widget-view+json": {
       "model_id": "6c8dcb2823fa437894db5506c8f555c3",
       "version_major": 2,
       "version_minor": 0
      },
      "text/plain": [
       "VBox()"
      ]
     },
     "metadata": {},
     "output_type": "display_data"
    },
    {
     "data": {
      "application/vnd.jupyter.widget-view+json": {
       "model_id": "",
       "version_major": 2,
       "version_minor": 0
      },
      "text/plain": [
       "FloatProgress(value=0.0, bar_style='info', description='Progress:', layout=Layout(height='25px', width='50%'),…"
      ]
     },
     "metadata": {},
     "output_type": "display_data"
    },
    {
     "name": "stdout",
     "output_type": "stream",
     "text": [
      "applicant: 604\n",
      "and: 2\n",
      "attack: 515\n",
      "protein: 3681\n",
      "car: 635"
     ]
    }
   ],
   "source": [
    "# and we'll create a RDD that has a bunch of (word, dictNum) pairs\n",
    "# start by creating an RDD that has the number 0 thru 20000\n",
    "# 20000 is the number of words that will be in our dictionary\n",
    "twentyK = sc.parallelize(range(20000))\n",
    "\n",
    "# now, we transform (0), (1), (2), ... to (\"mostcommonword\", 0) (\"nextmostcommon\", 1), ...\n",
    "# the number will be the spot in the dictionary used to tell us where the word is located\n",
    "# A bunch of (word, posInDictionary) pairs\n",
    "dictionary = twentyK.map(lambda x: (topWords[x][0], x))\n",
    "\n",
    "# Collect the Rdd to a Dict\n",
    "localDict = dictionary.collectAsMap()\n",
    "for inputWord in [\"applicant\", \"and\", \"attack\", \"protein\", \"car\"]:\n",
    "    if inputWord in localDict:\n",
    "        print(f'{inputWord}: {localDict[inputWord]}')\n",
    "    else:\n",
    "        print(f'{inputWord}: -1')"
   ]
  },
  {
   "cell_type": "markdown",
   "id": "2a0063f4",
   "metadata": {},
   "source": [
    "## Task 2"
   ]
  },
  {
   "cell_type": "code",
   "execution_count": 5,
   "id": "c65ba06b",
   "metadata": {},
   "outputs": [
    {
     "data": {
      "application/vnd.jupyter.widget-view+json": {
       "model_id": "abf30d5dace74ed18e8830fcfb305784",
       "version_major": 2,
       "version_minor": 0
      },
      "text/plain": [
       "VBox()"
      ]
     },
     "metadata": {},
     "output_type": "display_data"
    },
    {
     "data": {
      "application/vnd.jupyter.widget-view+json": {
       "model_id": "",
       "version_major": 2,
       "version_minor": 0
      },
      "text/plain": [
       "FloatProgress(value=0.0, bar_style='info', description='Progress:', layout=Layout(height='25px', width='50%'),…"
      ]
     },
     "metadata": {},
     "output_type": "display_data"
    }
   ],
   "source": [
    "# Task 2\n",
    "import math\n",
    "\n",
    "# A bunch of (word, docID) pairs\n",
    "wordDictPair = keyAndListOfWords.flatMap(lambda x: ((j, x[0]) for j in x[1]))\n",
    "# Join the two RDDs, you'll have a bunch of (word, (docID, posInDictionary)) pairs\n",
    "wordPair = wordDictPair.join(dictionary)\n",
    "\n",
    "# Get a bunch of (docid, (listOfAllDictonaryPos)) pairs\n",
    "docIDIdxPair = wordPair.map(lambda x: (x[1][0], x[1][1]))\n",
    "docIDAllIdxPair = docIDIdxPair.groupByKey()\n",
    "docIDAllIdxList = docIDAllIdxPair.map(lambda x: (x[0], list(x[1])))\n",
    "\n",
    "\n",
    "# Then finally, you will write a map () that will take that RDD and convert into the listOfAllDictonary\n",
    "def transformNP(idxList):\n",
    "    array = np.zeros(20000)\n",
    "    for i in idxList:\n",
    "        array[i] += 1\n",
    "    return array\n",
    "\n",
    "\n",
    "result = docIDAllIdxList.map(lambda x: (x[0], transformNP(x[1])))"
   ]
  },
  {
   "cell_type": "code",
   "execution_count": 6,
   "id": "0bafdae9",
   "metadata": {
    "scrolled": true
   },
   "outputs": [
    {
     "data": {
      "application/vnd.jupyter.widget-view+json": {
       "model_id": "18bbbd4bde8744a0b8b6e785e6bb01cd",
       "version_major": 2,
       "version_minor": 0
      },
      "text/plain": [
       "VBox()"
      ]
     },
     "metadata": {},
     "output_type": "display_data"
    },
    {
     "data": {
      "application/vnd.jupyter.widget-view+json": {
       "model_id": "",
       "version_major": 2,
       "version_minor": 0
      },
      "text/plain": [
       "FloatProgress(value=0.0, bar_style='info', description='Progress:', layout=Layout(height='25px', width='50%'),…"
      ]
     },
     "metadata": {},
     "output_type": "display_data"
    }
   ],
   "source": [
    "def findWord(wordList):\n",
    "    arr = np.zeros(20000)\n",
    "    for idx, i in enumerate(wordList):\n",
    "        if i > 0:\n",
    "            arr[idx] += 1\n",
    "    return arr\n",
    "\n",
    "\n",
    "# IDF\n",
    "def IDF(result):\n",
    "    cnt = 0\n",
    "    val = result.map(lambda x: (\"key\", findWord(x[1])))\n",
    "    finalList = val.reduceByKey(lambda a, b: a + b)\n",
    "    return finalList\n",
    "\n",
    "\n",
    "# Calculate IDF values\n",
    "size = result.count()\n",
    "IDFList = IDF(result)\n",
    "IDFArr = np.array(IDFList.lookup(\"key\"))\n",
    "IDFArr = np.log(size / IDFArr)\n",
    "\n",
    "\n",
    "# TF-IDF\n",
    "def TFIDF(arrCnt):\n",
    "    TFArr = arrCnt / arrCnt.sum()\n",
    "    finalResult = np.multiply(TFArr, IDFArr)\n",
    "    return finalResult\n",
    "\n",
    "\n",
    "def predictLabel(inputStr):\n",
    "    regex = re.compile('[^a-zA-Z]')\n",
    "\n",
    "    # Input string to a bunch of words\n",
    "    words = regex.sub(' ', inputStr).lower().split()\n",
    "    wordArr = np.zeros(20000)\n",
    "\n",
    "    for word in words:\n",
    "        if word in localDict.keys():\n",
    "            wordArr[localDict[word]] += 1\n",
    "    inputTFIDF = TFIDF(wordArr)\n",
    "    mean = np.mean(inputTFIDF)\n",
    "\n",
    "    return inputTFIDF\n",
    "\n",
    "\n",
    "# TFIDF for all dictionaries\n",
    "trainingInfo = keyAndText.map(lambda x: (x[0], predictLabel(x[1])))\n",
    "Data = keyAndText.map(lambda x:\n",
    "                      (1 if x[0][0:2] == \"AU\" else 0, predictLabel(x[1])))\n",
    "trainingData = Data.map(lambda x: (x[0], x[1][0]))"
   ]
  },
  {
   "cell_type": "code",
   "execution_count": 7,
   "id": "955ccf41",
   "metadata": {},
   "outputs": [
    {
     "data": {
      "application/vnd.jupyter.widget-view+json": {
       "model_id": "220cd87d3de64ad6b9241c51de4f8d93",
       "version_major": 2,
       "version_minor": 0
      },
      "text/plain": [
       "VBox()"
      ]
     },
     "metadata": {},
     "output_type": "display_data"
    },
    {
     "data": {
      "application/vnd.jupyter.widget-view+json": {
       "model_id": "",
       "version_major": 2,
       "version_minor": 0
      },
      "text/plain": [
       "FloatProgress(value=0.0, bar_style='info', description='Progress:', layout=Layout(height='25px', width='50%'),…"
      ]
     },
     "metadata": {},
     "output_type": "display_data"
    }
   ],
   "source": [
    "meanVec = trainingData.map(lambda x: (\"key\", x[1]))\n",
    "meanVec = meanVec.reduceByKey(lambda a, b: a + b)\n",
    "meanVec = meanVec.map(lambda x: x[1])\n",
    "mean = meanVec.collect()[0] / size\n",
    "\n",
    "varVec = trainingData.map(lambda x: (\"key\", 10000 * np.square(x[1] - mean)))\n",
    "varVec = varVec.reduceByKey(lambda a, b: a + b)\n",
    "varVec = varVec.map(lambda x: x[1])\n",
    "var = np.sqrt(varVec.collect()[0] / size)\n",
    "var[var == 0] = 1\n",
    "training = trainingData.map(lambda x: (x[0], (x[1] - mean) / var))\n",
    "training = training.cache()"
   ]
  },
  {
   "cell_type": "code",
   "execution_count": 8,
   "id": "dfb3f86e",
   "metadata": {},
   "outputs": [
    {
     "data": {
      "application/vnd.jupyter.widget-view+json": {
       "model_id": "b54a3d1abca048bfba5b777cc23e05af",
       "version_major": 2,
       "version_minor": 0
      },
      "text/plain": [
       "VBox()"
      ]
     },
     "metadata": {},
     "output_type": "display_data"
    },
    {
     "data": {
      "application/vnd.jupyter.widget-view+json": {
       "model_id": "",
       "version_major": 2,
       "version_minor": 0
      },
      "text/plain": [
       "FloatProgress(value=0.0, bar_style='info', description='Progress:', layout=Layout(height='25px', width='50%'),…"
      ]
     },
     "metadata": {},
     "output_type": "display_data"
    },
    {
     "name": "stdout",
     "output_type": "stream",
     "text": [
      "[(1, array([ 0.00522892,  0.00266918, -0.00711443, ..., -0.00045324,\n",
      "       -0.00043724, -0.00033808]))]"
     ]
    }
   ],
   "source": [
    "training.take(1)"
   ]
  },
  {
   "cell_type": "code",
   "execution_count": 9,
   "id": "56a25e97",
   "metadata": {},
   "outputs": [
    {
     "data": {
      "application/vnd.jupyter.widget-view+json": {
       "model_id": "2dc45930e0334d96a07c33ab28e08e26",
       "version_major": 2,
       "version_minor": 0
      },
      "text/plain": [
       "VBox()"
      ]
     },
     "metadata": {},
     "output_type": "display_data"
    },
    {
     "data": {
      "application/vnd.jupyter.widget-view+json": {
       "model_id": "",
       "version_major": 2,
       "version_minor": 0
      },
      "text/plain": [
       "FloatProgress(value=0.0, bar_style='info', description='Progress:', layout=Layout(height='25px', width='50%'),…"
      ]
     },
     "metadata": {},
     "output_type": "display_data"
    }
   ],
   "source": [
    "# x is the data set\n",
    "# y is the labels\n",
    "# w is the current set of weights\n",
    "# c is the weight of the slack variables\n",
    "\n",
    "\n",
    "# Evaluates and returns the gradient\n",
    "def gradient(train, w, c):\n",
    "    l2 = np.linalg.norm(w, 2)\n",
    "    grad_per_row = train.map(lambda x: -1 * x[0] * x[1] + x[1] * (np.exp(\n",
    "        np.dot(x[1], w)) / (1 + np.exp(np.dot(x[1], w)))) + c * w * 2)\n",
    "    acc = np.zeros(20000)\n",
    "    grad = grad_per_row.fold(acc, lambda a, b: a + b)\n",
    "    print(f\"Gradient: {grad}\")\n",
    "    return grad"
   ]
  },
  {
   "cell_type": "code",
   "execution_count": 10,
   "id": "2bed60ca",
   "metadata": {},
   "outputs": [
    {
     "data": {
      "application/vnd.jupyter.widget-view+json": {
       "model_id": "cbfcb921e17a4cc9b0b019028de96280",
       "version_major": 2,
       "version_minor": 0
      },
      "text/plain": [
       "VBox()"
      ]
     },
     "metadata": {},
     "output_type": "display_data"
    },
    {
     "data": {
      "application/vnd.jupyter.widget-view+json": {
       "model_id": "",
       "version_major": 2,
       "version_minor": 0
      },
      "text/plain": [
       "FloatProgress(value=0.0, bar_style='info', description='Progress:', layout=Layout(height='25px', width='50%'),…"
      ]
     },
     "metadata": {},
     "output_type": "display_data"
    }
   ],
   "source": [
    "from operator import add\n",
    "\n",
    "# x is the data set\n",
    "# y is the labels\n",
    "# w is the current set of weights\n",
    "# c is the weight of the slack variables\n",
    "\n",
    "\n",
    "# Evaluates the loss function and returns the loss\n",
    "def f(train, w, c):\n",
    "    l2 = np.linalg.norm(w, 2)\n",
    "    loss_per_row = train.map(lambda x: (\"key\", (-1 * x[0] * np.dot(x[\n",
    "        1], w)) + np.log(1 + np.exp(np.dot(x[1], w))) + c * l2 * l2))\n",
    "    loss = loss_per_row.reduceByKey(add).collect()\n",
    "    loss = loss[0][1]\n",
    "    print(f\"Loss: {loss}\")\n",
    "    return loss"
   ]
  },
  {
   "cell_type": "code",
   "execution_count": 11,
   "id": "a3fd4969",
   "metadata": {},
   "outputs": [
    {
     "data": {
      "application/vnd.jupyter.widget-view+json": {
       "model_id": "dceab48e6b2a427e846b0b9d8ce3c110",
       "version_major": 2,
       "version_minor": 0
      },
      "text/plain": [
       "VBox()"
      ]
     },
     "metadata": {},
     "output_type": "display_data"
    },
    {
     "data": {
      "application/vnd.jupyter.widget-view+json": {
       "model_id": "",
       "version_major": 2,
       "version_minor": 0
      },
      "text/plain": [
       "FloatProgress(value=0.0, bar_style='info', description='Progress:', layout=Layout(height='25px', width='50%'),…"
      ]
     },
     "metadata": {},
     "output_type": "display_data"
    }
   ],
   "source": [
    "# performs gradient descent optimization, returns the learned set of weights\n",
    "# uses the bold driver to set the learning rate\n",
    "#\n",
    "# x is the data set\n",
    "# y is the labels\n",
    "# w is the current set of weights  to start with\n",
    "# c is the weight of the slack variable\n",
    "def gd_optimize(train, w, c):\n",
    "    rate = 0.001\n",
    "    w_last = w + np.full(20000, 1.0)\n",
    "    while (abs(f(train, w, c) - f(train, w_last, c))) > 10e-4:\n",
    "        w_last = w\n",
    "        w = w - rate * gradient(train, w, c)\n",
    "        if f(train, w, c) > f(train, w_last, c):\n",
    "            rate = rate * 0.5\n",
    "        else:\n",
    "            rate = rate * 1.1\n",
    "        print(f(train, w, c))\n",
    "    return w"
   ]
  },
  {
   "cell_type": "code",
   "execution_count": 12,
   "id": "6bbf9609",
   "metadata": {},
   "outputs": [
    {
     "data": {
      "application/vnd.jupyter.widget-view+json": {
       "model_id": "9ba6626602554489954aec71289f28a8",
       "version_major": 2,
       "version_minor": 0
      },
      "text/plain": [
       "VBox()"
      ]
     },
     "metadata": {},
     "output_type": "display_data"
    },
    {
     "data": {
      "application/vnd.jupyter.widget-view+json": {
       "model_id": "",
       "version_major": 2,
       "version_minor": 0
      },
      "text/plain": [
       "FloatProgress(value=0.0, bar_style='info', description='Progress:', layout=Layout(height='25px', width='50%'),…"
      ]
     },
     "metadata": {},
     "output_type": "display_data"
    },
    {
     "name": "stdout",
     "output_type": "stream",
     "text": [
      "Loss: 50662.36287534324\n",
      "Loss: 3807393.2107942416\n",
      "Gradient: [ 15.70836618  -7.3726081   29.38645976 ...  14.14399443  64.44698819\n",
      " -60.63956442]\n",
      "Loss: 27686.001536564618\n",
      "Loss: 50662.36287534324\n",
      "Loss: 27686.001536564618\n",
      "27686.001536564618\n",
      "Loss: 27686.001536564618\n",
      "Loss: 50662.36287534324\n",
      "Gradient: [  9.92845011  -4.56164638  18.20343595 ...   8.88142822  40.25985853\n",
      " -37.90944445]\n",
      "Loss: 18039.923274612876\n",
      "Loss: 27686.001536564618\n",
      "Loss: 18039.923274612876\n",
      "18039.923274612876\n",
      "Loss: 18039.923274612876\n",
      "Loss: 27686.001536564618\n",
      "Gradient: [  5.90744325  -2.65033887  10.58469348 ...   5.24622058  23.63905629\n",
      " -22.27845651]\n",
      "Loss: 14472.209413877408\n",
      "Loss: 18039.923274612876\n",
      "Loss: 14472.209413877408\n",
      "14472.209413877408\n",
      "Loss: 14472.209413877408\n",
      "Loss: 18039.923274612876\n",
      "Gradient: [  3.2737721   -1.43021297   5.71288467 ...   2.88390405  12.90401477\n",
      " -12.17391671]\n",
      "Loss: 13335.340904830598\n",
      "Loss: 14472.209413877408\n",
      "Loss: 13335.340904830598\n",
      "13335.340904830598\n",
      "Loss: 13335.340904830598\n",
      "Loss: 14472.209413877408\n",
      "Gradient: [ 1.66698681 -0.70690538  2.82137363 ...  1.45523087  6.45801266\n",
      " -6.10021114]\n",
      "Loss: 13031.968746162187\n",
      "Loss: 13335.340904830598\n",
      "Loss: 13031.968746162187\n",
      "13031.968746162187\n",
      "Loss: 13031.968746162187\n",
      "Loss: 13335.340904830598\n",
      "Gradient: [ 0.76618282 -0.31424523  1.25114247 ...  0.66207828  2.90942346\n",
      " -2.75240751]\n",
      "Loss: 12966.65083619296\n",
      "Loss: 13031.968746162187\n",
      "Loss: 12966.65083619296\n",
      "12966.65083619296\n",
      "Loss: 12966.65083619296\n",
      "Loss: 13031.968746162187\n",
      "Gradient: [ 0.31028384 -0.12257681  0.48552215 ...  0.26505193  1.15087356\n",
      " -1.09083491]\n",
      "Loss: 12955.863279686873\n",
      "Loss: 12966.65083619296\n",
      "Loss: 12955.863279686873\n",
      "12955.863279686873\n",
      "Loss: 12955.863279686873\n",
      "Loss: 12966.65083619296\n",
      "Gradient: [ 0.10695673 -0.0405077   0.15887569 ...  0.09017167  0.38568914\n",
      " -0.36647093]\n",
      "Loss: 12954.592019963744\n",
      "Loss: 12955.863279686873\n",
      "Loss: 12954.592019963744\n",
      "12954.592019963744\n",
      "Loss: 12954.592019963744\n",
      "Loss: 12955.863279686873\n",
      "Gradient: [ 0.02975542 -0.0107485   0.04137837 ...  0.02470825  0.1036129\n",
      " -0.09878335]\n",
      "Loss: 12954.496405059572\n",
      "Loss: 12954.592019963744\n",
      "Loss: 12954.496405059572\n",
      "12954.496405059572\n",
      "Loss: 12954.496405059572\n",
      "Loss: 12954.592019963744\n",
      "Gradient: [ 0.00609215 -0.00208866  0.00774656 ...  0.00496968  0.02025757\n",
      " -0.01941217]\n",
      "Loss: 12954.492624261682\n",
      "Loss: 12954.496405059572\n",
      "Loss: 12954.492624261682\n",
      "12954.492624261682\n",
      "Loss: 12954.492624261682\n",
      "Loss: 12954.496405059572\n",
      "Gradient: [ 0.00075209 -0.00024453  0.0008295  ...  0.00060062  0.002331\n",
      " -0.00225511]\n",
      "Loss: 12954.492572764724\n",
      "Loss: 12954.492624261682\n",
      "Loss: 12954.492572764724\n",
      "12954.492572764724\n",
      "Loss: 12954.492572764724\n",
      "Loss: 12954.492624261682"
     ]
    }
   ],
   "source": [
    "np.random.seed(42)\n",
    "w = np.random.normal(0, 0.1, size=(20000))\n",
    "c = 0.01\n",
    "w = gd_optimize(training, w, 0.01)"
   ]
  },
  {
   "cell_type": "code",
   "execution_count": 13,
   "id": "93cf4965",
   "metadata": {},
   "outputs": [
    {
     "data": {
      "application/vnd.jupyter.widget-view+json": {
       "model_id": "e81263d177c449849bcc2d736c0cdf94",
       "version_major": 2,
       "version_minor": 0
      },
      "text/plain": [
       "VBox()"
      ]
     },
     "metadata": {},
     "output_type": "display_data"
    },
    {
     "data": {
      "application/vnd.jupyter.widget-view+json": {
       "model_id": "",
       "version_major": 2,
       "version_minor": 0
      },
      "text/plain": [
       "FloatProgress(value=0.0, bar_style='info', description='Progress:', layout=Layout(height='25px', width='50%'),…"
      ]
     },
     "metadata": {},
     "output_type": "display_data"
    },
    {
     "name": "stdout",
     "output_type": "stream",
     "text": [
      "['that', 'not', 'any', 'court', 'act', 'mr', 'evidence', 'decision', 'whether', 'tribunal', 'application', 'applicant', 'claim', 'matter', 'reasons', 'appeal', 'appellant', 'orders', 'relevant', 'ltd', 'sought', 'notice', 'circumstances', 'relation', 'hearing', 'proceedings', 'respondent', 'consider', 'matters', 'regard', 'proceeding', 'respondents', 'pty', 'judgment', 'satisfied', 'submissions', 'affidavit', 'magistrate', 'pursuant', 'fca', 'clr', 'hca', 'amp', 'discretion', 'fcr', 'alr', 'jurisdictional', 'relevantly', 'fcafc', 'gummow']"
     ]
    }
   ],
   "source": [
    "idx = np.argpartition(w, -50)[-50:]\n",
    "output = list()\n",
    "\n",
    "for key, value in localDict.items():\n",
    "    if value in idx:\n",
    "        output.append(key)\n",
    "print(output)"
   ]
  },
  {
   "cell_type": "markdown",
   "id": "8c0c3d28",
   "metadata": {},
   "source": [
    "## Task 3"
   ]
  },
  {
   "cell_type": "code",
   "execution_count": 14,
   "id": "c2eb9934",
   "metadata": {},
   "outputs": [
    {
     "data": {
      "application/vnd.jupyter.widget-view+json": {
       "model_id": "a5dcb2aaffbb474cb02980d9471a081a",
       "version_major": 2,
       "version_minor": 0
      },
      "text/plain": [
       "VBox()"
      ]
     },
     "metadata": {},
     "output_type": "display_data"
    },
    {
     "data": {
      "application/vnd.jupyter.widget-view+json": {
       "model_id": "",
       "version_major": 2,
       "version_minor": 0
      },
      "text/plain": [
       "FloatProgress(value=0.0, bar_style='info', description='Progress:', layout=Layout(height='25px', width='50%'),…"
      ]
     },
     "metadata": {},
     "output_type": "display_data"
    }
   ],
   "source": [
    "# Testing Data\n",
    "import re\n",
    "import numpy as np\n",
    "\n",
    "# load up the small dataset\n",
    "corpus = sc.textFile(\n",
    "    \"s3://chrisjermainebucket/comp330_A5/SmallTrainingDataOneLinePerDoc.txt\")\n",
    "# each entry in validLines will be a line from the text file\n",
    "validLines = corpus.filter(lambda x: 'id' in x)\n",
    "# now we transform it into a bunch of (docID, text) pairs\n",
    "keyAndText = validLines.map(\n",
    "    lambda x: (x[x.index('id=\"') + 4:x.index('\" url=')], x[x.index('\">') + 2:]))\n",
    "\n",
    "# TFIDF for all dictionaries\n",
    "testingData = keyAndText.map(\n",
    "    lambda x: (1 if x[0][0:2] == \"AU\" else 0, predictLabel(x[1])))\n",
    "testingData = testingData.map(lambda x: (x[0], x[1][0]))"
   ]
  },
  {
   "cell_type": "code",
   "execution_count": 15,
   "id": "00a6b71a",
   "metadata": {},
   "outputs": [
    {
     "data": {
      "application/vnd.jupyter.widget-view+json": {
       "model_id": "f5b7848d388049709b6b893c35ebe2fd",
       "version_major": 2,
       "version_minor": 0
      },
      "text/plain": [
       "VBox()"
      ]
     },
     "metadata": {},
     "output_type": "display_data"
    },
    {
     "data": {
      "application/vnd.jupyter.widget-view+json": {
       "model_id": "",
       "version_major": 2,
       "version_minor": 0
      },
      "text/plain": [
       "FloatProgress(value=0.0, bar_style='info', description='Progress:', layout=Layout(height='25px', width='50%'),…"
      ]
     },
     "metadata": {},
     "output_type": "display_data"
    }
   ],
   "source": [
    "# Make predictions using all of the data points in x\n",
    "# print ‘success’ or ‘failure’ depending on whether the\n",
    "# prediction is correct\n",
    "\n",
    "# x is the data set\n",
    "# y is the labels\n",
    "# w is the current set of weights\n",
    "\n",
    "\n",
    "def predict(x, y, w):\n",
    "    if ((np.dot(x, w) > 0.008) and (y == 1)):\n",
    "        # print(\"True Positive\")\n",
    "        return \"tp\"\n",
    "    elif ((np.dot(x, w) < 0.008) and (y == 0)):\n",
    "        # print(\"True Negative\")\n",
    "        return \"tn\"\n",
    "    elif ((np.dot(x, w) > 0.008) and (y == 0)):\n",
    "        # print(\"False Positive\")\n",
    "        return \"fp\"\n",
    "    elif ((np.dot(x, w) < 0.008) and (y == 1)):\n",
    "        # print(\"False Negative\")\n",
    "        return \"fn\""
   ]
  },
  {
   "cell_type": "code",
   "execution_count": 16,
   "id": "015a2528",
   "metadata": {},
   "outputs": [
    {
     "data": {
      "application/vnd.jupyter.widget-view+json": {
       "model_id": "2872f26207494b3a84d25d687590668e",
       "version_major": 2,
       "version_minor": 0
      },
      "text/plain": [
       "VBox()"
      ]
     },
     "metadata": {},
     "output_type": "display_data"
    },
    {
     "data": {
      "application/vnd.jupyter.widget-view+json": {
       "model_id": "",
       "version_major": 2,
       "version_minor": 0
      },
      "text/plain": [
       "FloatProgress(value=0.0, bar_style='info', description='Progress:', layout=Layout(height='25px', width='50%'),…"
      ]
     },
     "metadata": {},
     "output_type": "display_data"
    }
   ],
   "source": [
    "prediction = testingData.map(lambda x: predict(x[1], x[0], w)).collect()\n",
    "\n",
    "fpList = list()\n",
    "tp = 0\n",
    "tn = 0\n",
    "fp = 0\n",
    "fn = 0\n",
    "\n",
    "for idx, i in enumerate(prediction):\n",
    "    if i == \"tp\":\n",
    "        tp += 1\n",
    "    elif i == \"tn\":\n",
    "        tn += 1\n",
    "    elif i == \"fp\":\n",
    "        fp += 1\n",
    "        fpList.append(idx)\n",
    "    elif i == \"fn\":\n",
    "        fn += 1\n",
    "precision = tp / (tp + fp)\n",
    "recall = tp / (tp + fn)\n",
    "f1score = 2 * precision * recall / (precision + recall)"
   ]
  },
  {
   "cell_type": "code",
   "execution_count": 17,
   "id": "539392d7",
   "metadata": {},
   "outputs": [
    {
     "data": {
      "application/vnd.jupyter.widget-view+json": {
       "model_id": "9aaf281e8c684e7f93ee835e9ec7ec80",
       "version_major": 2,
       "version_minor": 0
      },
      "text/plain": [
       "VBox()"
      ]
     },
     "metadata": {},
     "output_type": "display_data"
    },
    {
     "data": {
      "application/vnd.jupyter.widget-view+json": {
       "model_id": "",
       "version_major": 2,
       "version_minor": 0
      },
      "text/plain": [
       "FloatProgress(value=0.0, bar_style='info', description='Progress:', layout=Layout(height='25px', width='50%'),…"
      ]
     },
     "metadata": {},
     "output_type": "display_data"
    },
    {
     "name": "stdout",
     "output_type": "stream",
     "text": [
      "TP: 67\n",
      "TN: 3364\n",
      "FP: 4\n",
      "FN: 7\n",
      "3431 out of 3442 correct.\n",
      "Precision: 0.9436619718309859\n",
      "Recall: 0.9054054054054054\n",
      "F1 Score: 0.9241379310344827"
     ]
    }
   ],
   "source": [
    "print(f'TP: {tp}')\n",
    "print(f'TN: {tn}')\n",
    "print(f'FP: {fp}')\n",
    "print(f'FN: {fn}')\n",
    "print(\"%d out of %d correct.\" % (tp + tn, len(prediction)))\n",
    "print(f\"Precision: {precision}\")\n",
    "print(f\"Recall: {recall}\")\n",
    "print(f\"F1 Score: {f1score}\\n\")"
   ]
  },
  {
   "cell_type": "code",
   "execution_count": 19,
   "id": "bc136fe3",
   "metadata": {},
   "outputs": [
    {
     "data": {
      "application/vnd.jupyter.widget-view+json": {
       "model_id": "d86c476499c64f26bb5a58c0fe0938ba",
       "version_major": 2,
       "version_minor": 0
      },
      "text/plain": [
       "VBox()"
      ]
     },
     "metadata": {},
     "output_type": "display_data"
    },
    {
     "data": {
      "application/vnd.jupyter.widget-view+json": {
       "model_id": "",
       "version_major": 2,
       "version_minor": 0
      },
      "text/plain": [
       "FloatProgress(value=0.0, bar_style='info', description='Progress:', layout=Layout(height='25px', width='50%'),…"
      ]
     },
     "metadata": {},
     "output_type": "display_data"
    },
    {
     "name": "stdout",
     "output_type": "stream",
     "text": [
      "[103, 512, 771, 1676]"
     ]
    }
   ],
   "source": [
    "print(fpList)\n",
    "checkFP = keyAndText.collect()"
   ]
  },
  {
   "cell_type": "code",
   "execution_count": 21,
   "id": "194d8d9c",
   "metadata": {},
   "outputs": [
    {
     "data": {
      "application/vnd.jupyter.widget-view+json": {
       "model_id": "8947f55ed29c4780b009655b976262f4",
       "version_major": 2,
       "version_minor": 0
      },
      "text/plain": [
       "VBox()"
      ]
     },
     "metadata": {},
     "output_type": "display_data"
    },
    {
     "data": {
      "application/vnd.jupyter.widget-view+json": {
       "model_id": "",
       "version_major": 2,
       "version_minor": 0
      },
      "text/plain": [
       "FloatProgress(value=0.0, bar_style='info', description='Progress:', layout=Layout(height='25px', width='50%'),…"
      ]
     },
     "metadata": {},
     "output_type": "display_data"
    },
    {
     "name": "stdout",
     "output_type": "stream",
     "text": [
      "('3617964', ' Bankruptcy and Insolvency Act  The Bankruptcy and Insolvency Act (\"BIA\") is the statute that regulates the law on bankruptcy and insolvency in Canada. It governs bankruptcies, consumer and commercial proposals, and receiverships in Canada. It also governs the Office of the Superintendent of Bankruptcy, a federal agency responsible for ensuring that bankruptcies are administered in a fair and orderly manner. Purpose and scope. The nature of the Act within Canada\\'s legal framework governing insolvency was described by the Supreme Court of Canada in \"Century Services Inc. v. Canada (Attorney General)\": With certain exceptions, the \"BIA\" covers a wide range of entities: The Act governs bankruptcy proceedings, which are invoked: The Act also governs receivership proceedings. Receivers may be appointed by a secured creditor under the terms of a general security agreement (where the debtor voluntarily agrees), or by the court where a secured creditor: Provision is also made for dealing with cross-border insolvencies and the recognition of foreign proceedings. Relationship with provincial law. Several notable cases known as the \"bankruptcy quartet\" stand for the following propositions about how the Act interacts with provincial legislation: In December 2013, the Ontario Court of Appeal held that, as a result of the above, a discharge from bankruptcy served as a release from all claims in bankruptcy, including tolls charged by 407 ETR, and Ontario\\'s \"Highway 407 Act, 1998\" could not bar a discharged bankrupt from renewing his license plates upon payment of normal annual fees. Leave to appeal the decision was granted by the Supreme Court of Canada in May 2014. History and development. Consolidation of pre-Confederation legislation. No specific legislation on bankruptcy and insolvency previously existed in New Brunswick and Nova Scotia. Bankruptcy process. Protective provisions. A secured creditor cannot enforce security on the business assets of an insolvent person without having given 10 days\\' advance notice in the prescribed form and manner. No person may terminate or amend — or claim an accelerated payment or forfeiture of the term under — any agreement, including a security agreement, with a bankrupt individual by reason only of the individual’s bankruptcy or insolvency. Similar provision is made with respect to any insolvent person upon filing a notice of intention or a proposal. A notice of intention, a Division I proposal, or a Division II proposal, will automatically create a stay of proceedings and \"no creditor has any remedy against the debtor or the debtor’s property, or shall commence or continue any action, execution or other proceedings, for the recovery of a claim provable in bankruptcy\". Similar provision is also made on the bankruptcy of any debtor. Directors of insolvent companies that have filed a notice of intention or a proposal have similar protection. Suspension of attachments. S. 70(1) of the \"BIA\" provides that bankruptcy orders and assignments take precedence over \"all judicial or other attachments, garnishments, certificates having the effect of judgments, judgments, certificates of judgment, legal hypothecs of judgment creditors, executions or other process against the property of a bankrupt,\" but that does not extend to: The Ontario Court of Appeal has ruled that, in the case of a \"requirement to pay\" under the \"Income Tax Act\" (Canada) that was issued after a notice of application to appoint a receiver (but before the court heard the application), supported by an \"ex parte\" \"jeopardy order\" issued by the Federal Court of Canada under s. 225.1(1) of that Act, the \"requirement to pay\" was considered to have been completely executed on the date of its issue, and thus took precedence over other creditors\\' claims. Settlement of the insolvent person\\'s estate. The trustee/receiver must first realize the amount of the proceeds from the property that is available for payment to the different classes of creditors, and different rules apply according to the type of proceeding. They are summarized as follows: The estate is then settled, using the priority of claims outlined in the \"BIA\". Creditors. The resulting amount available from the estate is distributed to the creditors in the following order of priority (with each class/subclass paid in full before proceeding to the next): There are several important notes to consider in assessing the above priorities: Every creditor must prove his claim and a creditor who does not prove his claim is not entitled to any distribution of the proceeds from bankrupt’s estate. The claim must be delivered to the trustee in bankruptcy and the trustee in bankruptcy must examine every proof of claim and can request further proof. The trustee may disallow, in whole or in part, any claim of right to a priority under the BIA or security. Generally, the test of proving the claim before the trustee in bankruptcy is very low, and a claim is proved unless it is too \"remote and speculative\". The rationale for such a low test is to discharge as many claims as possible to allow the bankrupt to make a fresh start after the discharge. Creditors also have the ability, with the approval of the court, to take over a cause of action that the trustee has decided not to pursue. Some liabilities are not released upon discharge. Directors and parties related to the bankrupt may still be held personally liable for certain tax debts, and directors can be held accountable for other liabilities. Preferences and transfers at undervalue. In 2009, the BIA was amended to reform the rules relating to setting aside any preferences, or transfers at undervalue, occurring before the initial bankruptcy event: Recovery actions under ss. 95 and 96, as for other recovery actions with respect to collections, can only be initiated by the trustee, even when they may be of benefit only to a secured creditor (unless creditors seek court approval under s. 38 to pursue the matter directly). The BIA already empowered the court to inquire into circumstances where a bankrupt corporation had paid cash dividends or redeemed shares where the corporation was insolvent, or where the transactions made it so, during the 12 months prior to its bankruptcy. In that regard, S. 95(2) provides that, where a preference is given, the fact that it may have been given under pressure is irrelevant. However, the courts have ruled that a payment may withstand challenge by a trustee where it is made in furtherance of a reasonable business imperative. Key actors in the procedure. Bankruptcy court. The provincial Superior Courts have \"such jurisdiction at law and in equity\" as will enable them to exercise bankruptcy process under the BIA. The decisions of the court are enforceable in the courts of other Canadian provinces and all courts and the officers of all courts must act and co-operate in all bankruptcy matters. Appeal from the court\\'s orders lies to the provincial Court of Appeal where: Registrars of the provincial Superior Courts have significant powers in relation to procedural matters, unopposed proceedings and in other matters under the Act. Office of the Superintendent of Bankruptcy. The Office of the Superintendent of Bankruptcy (\"OSB\") is designed to supervise the administration of all estates and matters to which the BIA applies. It grants licenses for the trustees in bankruptcy, inspects investigates bankruptcy estates, reviews the conduct of the trustees in bankruptcy and the receivers, and examines trustee’s accounts, receipts, disbursements and final statements. It has specific powers to intervene in any matter or proceeding in court as if the OSB were a party thereto, as well as to issue directives providing official interpretation of the bankruptcy process to the trustees in bankruptcy and the receivers. Trustee in bankruptcy. Trustees either individuals or corporations are licensed by the Superintendent, and are appointed to administer an estate by virtue of the assignment, bankruptcy order or proposal that has been filed. By special resolution, the creditors of the estate may appoint or substitute another licensed trustee to assume the role. A trustee is not bound to accept an appointment, but, once appointed, he must perform all duties that are legally required until his discharge or removal. Otherwise, any licensed trustee can be appointed to act, subject to the following constraints: The trustee acts as receiver for all the estate\\'s property, and is entitled to see its books and records. All moneys he receives must be deposited into a separate trust account. When required, he is obliged to report on the estate\\'s condition, moneys on hand, and property remaining unsold. He is not obliged to continue the business of the bankrupt, where there is no good business case for doing so. When he has completed the duties required of him for administering the estate, he shall apply to the court for a discharge, but any interested person may file an objection to having the discharge take place. All property of the bankruptcy vests in the trustee from the date of the bankruptcy, and the trustee may register a bankruptcy order against any real property in which the bankrupt has any interest or estate. The courts have held that trustees should clearly communicate to the bankrupt their intent to make a claim against the non-exempt equity in the bankrupt\\'s property at the time of the assignment into bankruptcy. Failure to do so may result in: The Superintendent may undertake conservatory measures in order to protect an estate, as well as the rights of the creditors and debtors, in specified circumstances: Inspectors. At the first meeting of the creditors, up to five individuals may be appointed to be inspectors of the estate (except where the creditors decide that that is not necessary). No inspector may be appointed if he is a party to any contested action or proceeding against the estate. Where the value of an individual debtor’s property is under $15,000, inspectors are not appointed (except where the creditors decide otherwise). The trustee is required to obtain the inspectors\\' permission before carrying out many of his responsibilities, such as the sale of property of the estate, the institution or defending of actions relating to the property of the bankrupt, settling any debts owing to the bankrupt and exercising trustee’s discretion in retaining and assigning bankrupt’s contracts. The inspectors must give their approval to the final statement of receipts and disbursements and trustee’s fees. Inspectors have a fiduciary duty to the creditors and should be impartial though acting in their interest. They should supervise the trustee’s compliance with the BIA and the Superintendent\\'s directives, and may apply for the removal of the trustee. Receivers. The receiver must do what \"practicality demands\" to preserve the assets and must not go beyond what is necessary in the circumstances. Interim receivers. The court may appoint an interim receiver: In the first case, the applicant must give an undertaking with respect to the debtor\\'s legal rights, and to damages in the event of the application being dismissed. The interim receiver can take conservatory measures and dispose of perishable property in order to comply with the order of the court, but the receiver cannot otherwise unduly interfere with the bankrupt in the carrying on of the debtor’s business. In the latter two cases, the court can only make the appointment if it is shown that it is necessary for the protection of the debtor\\'s estate, or in the interest of the creditor(s). The courts have set out the following factors to be considered in exercising discretion on whether to appoint an interim receiver:  </doc> ')"
     ]
    }
   ],
   "source": [
    "checkFP[103]"
   ]
  },
  {
   "cell_type": "code",
   "execution_count": null,
   "id": "c44d9acc",
   "metadata": {},
   "outputs": [],
   "source": []
  }
 ],
 "metadata": {
  "kernelspec": {
   "display_name": "PySpark",
   "language": "",
   "name": "pysparkkernel"
  },
  "language_info": {
   "codemirror_mode": {
    "name": "python",
    "version": 2
   },
   "mimetype": "text/x-python",
   "name": "pyspark",
   "pygments_lexer": "python2"
  }
 },
 "nbformat": 4,
 "nbformat_minor": 5
}
