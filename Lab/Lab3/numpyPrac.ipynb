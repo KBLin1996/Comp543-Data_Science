{
 "cells": [
  {
   "cell_type": "code",
   "execution_count": 20,
   "metadata": {},
   "outputs": [],
   "source": [
    "import numpy as np\n",
    "\n",
    "\n",
    "if __name__ == '__main__':\n",
    "    # There are 2000 words in the corpus\n",
    "    alpha = np.full (2000, .1)\n",
    "    # There are 100 topics\n",
    "    beta = np.full (100, .1)\n",
    "\n",
    "    # This gets us the probabilty of each word happening in each of the 100 topics\n",
    "    wordsInTopic = np.random.dirichlet (alpha, 100)\n",
    "\n",
    "    # Produced [doc, topic, word gives us the number of times that the given word was produced by the given topic in the given doc\n",
    "    produced = np.zeros ((50, 100, 2000))\n",
    "\n",
    "# generate each doc\n",
    "    for doc in range (0, 50):\n",
    "        # Get the topic probabilities for this doc\n",
    "        topicsInDoc = np.random.dirichlet (beta)\n",
    "\n",
    "        # Assign each of the 2000 words in this doc to a topic\n",
    "        wordsToTopic = np.random.multinomial (2000, topicsInDoc)\n",
    "        \n",
    "        # And generate each of the 2000 words\n",
    "        for topic in range (0, 100):\n",
    "            produced[doc, topic] = np.random.multinomial (wordsToTopic[topic], wordsInTopic[topic])"
   ]
  },
  {
   "cell_type": "code",
   "execution_count": 21,
   "metadata": {},
   "outputs": [
    {
     "data": {
      "text/plain": [
       "360.0"
      ]
     },
     "execution_count": 21,
     "metadata": {},
     "output_type": "execute_result"
    }
   ],
   "source": [
    "# 1. Write a line of code that computes the number of words produced by topic 17 in document 18.\n",
    "produced[18,17,:].sum()"
   ]
  },
  {
   "cell_type": "code",
   "execution_count": 22,
   "metadata": {
    "scrolled": true
   },
   "outputs": [
    {
     "data": {
      "text/plain": [
       "735.0"
      ]
     },
     "execution_count": 22,
     "metadata": {},
     "output_type": "execute_result"
    }
   ],
   "source": [
    "# 2. Write a line of code that computes the number of words produced by topic 17 thru 45 in document 18.\n",
    "produced[18,17:45,:].sum()"
   ]
  },
  {
   "cell_type": "code",
   "execution_count": 23,
   "metadata": {},
   "outputs": [
    {
     "data": {
      "text/plain": [
       "100000.0"
      ]
     },
     "execution_count": 23,
     "metadata": {},
     "output_type": "execute_result"
    }
   ],
   "source": [
    "# 3. Write a line of code that computes the number of words in the entire corpus.\n",
    "produced.sum()"
   ]
  },
  {
   "cell_type": "code",
   "execution_count": 24,
   "metadata": {},
   "outputs": [
    {
     "data": {
      "text/plain": [
       "893.0"
      ]
     },
     "execution_count": 24,
     "metadata": {},
     "output_type": "execute_result"
    }
   ],
   "source": [
    "# 4. Write a line of code that computes the number of words in the entire corpus produced by topic 17 .\n",
    "produced[:,17,:].sum()"
   ]
  },
  {
   "cell_type": "code",
   "execution_count": 25,
   "metadata": {},
   "outputs": [
    {
     "data": {
      "text/plain": [
       "3180.0"
      ]
     },
     "execution_count": 25,
     "metadata": {},
     "output_type": "execute_result"
    }
   ],
   "source": [
    "# 5. Write a line of code that computes the number of words in the entire corpus produced by topic 17 or topic 23.\n",
    "produced[:,np.array([17,23]),:].sum()"
   ]
  },
  {
   "cell_type": "code",
   "execution_count": 33,
   "metadata": {},
   "outputs": [
    {
     "data": {
      "text/plain": [
       "51543.0"
      ]
     },
     "execution_count": 33,
     "metadata": {},
     "output_type": "execute_result"
    }
   ],
   "source": [
    "# 6. Write a line of code that computes the number of words in the entire corpus produced by even numbered topics.\n",
    "produced[:,np.arange(0,100,2),:].sum()"
   ]
  },
  {
   "cell_type": "code",
   "execution_count": 40,
   "metadata": {},
   "outputs": [
    {
     "data": {
      "text/plain": [
       "array([0., 0., 3., ..., 0., 2., 3.])"
      ]
     },
     "execution_count": 40,
     "metadata": {},
     "output_type": "execute_result"
    }
   ],
   "source": [
    "# 7. Write a line of code that computes the number of each word produced by topic 15.\n",
    "produced[:,15,:].sum(0)"
   ]
  },
  {
   "cell_type": "code",
   "execution_count": 54,
   "metadata": {},
   "outputs": [
    {
     "data": {
      "text/plain": [
       "23"
      ]
     },
     "execution_count": 54,
     "metadata": {},
     "output_type": "execute_result"
    }
   ],
   "source": [
    "# 8. Write a line of code that computes the topic responsible for the most instances of each word in the corpus.\n",
    "produced.sum(0).sum(1).argmax()"
   ]
  },
  {
   "cell_type": "code",
   "execution_count": 56,
   "metadata": {},
   "outputs": [
    {
     "data": {
      "text/plain": [
       "array([25., 63., 25., 29., 31., 43., 23., 36., 40., 49., 25., 17., 36.,\n",
       "       23., 20., 16., 24., 19., 37., 22., 16., 35., 16., 48., 12., 15.,\n",
       "       17., 19., 16., 22., 22., 27., 25., 28., 30., 14., 33., 24., 28.,\n",
       "       23., 33., 17., 21., 54., 55., 33., 12., 18., 45., 27., 12., 16.,\n",
       "       49., 10., 13.,  9., 20., 17., 27., 19., 28., 17., 19., 13., 30.,\n",
       "       15., 38., 13., 20., 18., 16., 35., 25.,  6., 39.,  7., 26., 13.,\n",
       "       17., 12., 19., 41., 13., 21., 33., 13., 21., 21., 14., 30., 34.,\n",
       "       19., 24., 30., 18., 23., 23., 16., 19., 24.])"
      ]
     },
     "execution_count": 56,
     "metadata": {},
     "output_type": "execute_result"
    }
   ],
   "source": [
    "# 9. Write a line of code that for each topic, computes the max number of occurrences (summed over all documents) of any word that it was responsible for.\n",
    "# Method 1\n",
    "produced[:,np.arange(0,100,1),produced.sum (0).argmax(1)].sum(0)\n",
    "# Method 2\n",
    "produced.sum(0).max(1)"
   ]
  }
 ],
 "metadata": {
  "kernelspec": {
   "display_name": "Python 3",
   "language": "python",
   "name": "python3"
  },
  "language_info": {
   "codemirror_mode": {
    "name": "ipython",
    "version": 3
   },
   "file_extension": ".py",
   "mimetype": "text/x-python",
   "name": "python",
   "nbconvert_exporter": "python",
   "pygments_lexer": "ipython3",
   "version": "3.7.3"
  }
 },
 "nbformat": 4,
 "nbformat_minor": 2
}
